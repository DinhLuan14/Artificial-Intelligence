{
  "nbformat": 4,
  "nbformat_minor": 5,
  "metadata": {
    "accelerator": "GPU",
    "colab": {
      "name": "Baseline-NLI-tf-1-fold.ipynb",
      "provenance": [],
      "collapsed_sections": [],
      "include_colab_link": true
    },
    "kernelspec": {
      "display_name": "Python 3",
      "language": "python",
      "name": "python3"
    },
    "language_info": {
      "codemirror_mode": {
        "name": "ipython",
        "version": 3
      },
      "file_extension": ".py",
      "mimetype": "text/x-python",
      "name": "python",
      "nbconvert_exporter": "python",
      "pygments_lexer": "ipython3",
      "version": "3.7.10"
    },
    "papermill": {
      "default_parameters": {},
      "duration": 591.132195,
      "end_time": "2021-05-30T17:04:42.119014",
      "environment_variables": {},
      "exception": null,
      "input_path": "__notebook__.ipynb",
      "output_path": "__notebook__.ipynb",
      "parameters": {},
      "start_time": "2021-05-30T16:54:50.986819",
      "version": "2.3.3"
    },
    "widgets": {
      "application/vnd.jupyter.widget-state+json": {
        "75a70ec21ada4ff384a96c92b980b0a6": {
          "model_module": "@jupyter-widgets/controls",
          "model_name": "HBoxModel",
          "model_module_version": "1.5.0",
          "state": {
            "_view_name": "HBoxView",
            "_dom_classes": [],
            "_model_name": "HBoxModel",
            "_view_module": "@jupyter-widgets/controls",
            "_model_module_version": "1.5.0",
            "_view_count": null,
            "_view_module_version": "1.5.0",
            "box_style": "",
            "layout": "IPY_MODEL_2d9ec5d537c64f83ab8870b05781e6e9",
            "_model_module": "@jupyter-widgets/controls",
            "children": [
              "IPY_MODEL_49e8df98bf594086870b5977893d9b60",
              "IPY_MODEL_f4f38043fd1246cb880f422a8b6baa9a",
              "IPY_MODEL_96cf802732f648a09112051e988d30c4"
            ]
          }
        },
        "2d9ec5d537c64f83ab8870b05781e6e9": {
          "model_module": "@jupyter-widgets/base",
          "model_name": "LayoutModel",
          "model_module_version": "1.2.0",
          "state": {
            "_view_name": "LayoutView",
            "grid_template_rows": null,
            "right": null,
            "justify_content": null,
            "_view_module": "@jupyter-widgets/base",
            "overflow": null,
            "_model_module_version": "1.2.0",
            "_view_count": null,
            "flex_flow": null,
            "width": null,
            "min_width": null,
            "border": null,
            "align_items": null,
            "bottom": null,
            "_model_module": "@jupyter-widgets/base",
            "top": null,
            "grid_column": null,
            "overflow_y": null,
            "overflow_x": null,
            "grid_auto_flow": null,
            "grid_area": null,
            "grid_template_columns": null,
            "flex": null,
            "_model_name": "LayoutModel",
            "justify_items": null,
            "grid_row": null,
            "max_height": null,
            "align_content": null,
            "visibility": null,
            "align_self": null,
            "height": null,
            "min_height": null,
            "padding": null,
            "grid_auto_rows": null,
            "grid_gap": null,
            "max_width": null,
            "order": null,
            "_view_module_version": "1.2.0",
            "grid_template_areas": null,
            "object_position": null,
            "object_fit": null,
            "grid_auto_columns": null,
            "margin": null,
            "display": null,
            "left": null
          }
        },
        "49e8df98bf594086870b5977893d9b60": {
          "model_module": "@jupyter-widgets/controls",
          "model_name": "HTMLModel",
          "model_module_version": "1.5.0",
          "state": {
            "_view_name": "HTMLView",
            "style": "IPY_MODEL_229a73031b8846379c2b92256d7cb4fa",
            "_dom_classes": [],
            "description": "",
            "_model_name": "HTMLModel",
            "placeholder": "​",
            "_view_module": "@jupyter-widgets/controls",
            "_model_module_version": "1.5.0",
            "value": "Downloading: 100%",
            "_view_count": null,
            "_view_module_version": "1.5.0",
            "description_tooltip": null,
            "_model_module": "@jupyter-widgets/controls",
            "layout": "IPY_MODEL_dbfc39dd32a04cdb8524c388c18d5be3"
          }
        },
        "f4f38043fd1246cb880f422a8b6baa9a": {
          "model_module": "@jupyter-widgets/controls",
          "model_name": "FloatProgressModel",
          "model_module_version": "1.5.0",
          "state": {
            "_view_name": "ProgressView",
            "style": "IPY_MODEL_8d64ea4ca1f142be98c5ac8d317957b4",
            "_dom_classes": [],
            "description": "",
            "_model_name": "FloatProgressModel",
            "bar_style": "success",
            "max": 25,
            "_view_module": "@jupyter-widgets/controls",
            "_model_module_version": "1.5.0",
            "value": 25,
            "_view_count": null,
            "_view_module_version": "1.5.0",
            "orientation": "horizontal",
            "min": 0,
            "description_tooltip": null,
            "_model_module": "@jupyter-widgets/controls",
            "layout": "IPY_MODEL_0d516e709a3a4dd4b020f9231ae794ac"
          }
        },
        "96cf802732f648a09112051e988d30c4": {
          "model_module": "@jupyter-widgets/controls",
          "model_name": "HTMLModel",
          "model_module_version": "1.5.0",
          "state": {
            "_view_name": "HTMLView",
            "style": "IPY_MODEL_486b44682acb4d8c9670e6529714d132",
            "_dom_classes": [],
            "description": "",
            "_model_name": "HTMLModel",
            "placeholder": "​",
            "_view_module": "@jupyter-widgets/controls",
            "_model_module_version": "1.5.0",
            "value": " 25.0/25.0 [00:00&lt;00:00, 155B/s]",
            "_view_count": null,
            "_view_module_version": "1.5.0",
            "description_tooltip": null,
            "_model_module": "@jupyter-widgets/controls",
            "layout": "IPY_MODEL_0fe2e9fb4fda4b89848ea0baa797138b"
          }
        },
        "229a73031b8846379c2b92256d7cb4fa": {
          "model_module": "@jupyter-widgets/controls",
          "model_name": "DescriptionStyleModel",
          "model_module_version": "1.5.0",
          "state": {
            "_view_name": "StyleView",
            "_model_name": "DescriptionStyleModel",
            "description_width": "",
            "_view_module": "@jupyter-widgets/base",
            "_model_module_version": "1.5.0",
            "_view_count": null,
            "_view_module_version": "1.2.0",
            "_model_module": "@jupyter-widgets/controls"
          }
        },
        "dbfc39dd32a04cdb8524c388c18d5be3": {
          "model_module": "@jupyter-widgets/base",
          "model_name": "LayoutModel",
          "model_module_version": "1.2.0",
          "state": {
            "_view_name": "LayoutView",
            "grid_template_rows": null,
            "right": null,
            "justify_content": null,
            "_view_module": "@jupyter-widgets/base",
            "overflow": null,
            "_model_module_version": "1.2.0",
            "_view_count": null,
            "flex_flow": null,
            "width": null,
            "min_width": null,
            "border": null,
            "align_items": null,
            "bottom": null,
            "_model_module": "@jupyter-widgets/base",
            "top": null,
            "grid_column": null,
            "overflow_y": null,
            "overflow_x": null,
            "grid_auto_flow": null,
            "grid_area": null,
            "grid_template_columns": null,
            "flex": null,
            "_model_name": "LayoutModel",
            "justify_items": null,
            "grid_row": null,
            "max_height": null,
            "align_content": null,
            "visibility": null,
            "align_self": null,
            "height": null,
            "min_height": null,
            "padding": null,
            "grid_auto_rows": null,
            "grid_gap": null,
            "max_width": null,
            "order": null,
            "_view_module_version": "1.2.0",
            "grid_template_areas": null,
            "object_position": null,
            "object_fit": null,
            "grid_auto_columns": null,
            "margin": null,
            "display": null,
            "left": null
          }
        },
        "8d64ea4ca1f142be98c5ac8d317957b4": {
          "model_module": "@jupyter-widgets/controls",
          "model_name": "ProgressStyleModel",
          "model_module_version": "1.5.0",
          "state": {
            "_view_name": "StyleView",
            "_model_name": "ProgressStyleModel",
            "description_width": "",
            "_view_module": "@jupyter-widgets/base",
            "_model_module_version": "1.5.0",
            "_view_count": null,
            "_view_module_version": "1.2.0",
            "bar_color": null,
            "_model_module": "@jupyter-widgets/controls"
          }
        },
        "0d516e709a3a4dd4b020f9231ae794ac": {
          "model_module": "@jupyter-widgets/base",
          "model_name": "LayoutModel",
          "model_module_version": "1.2.0",
          "state": {
            "_view_name": "LayoutView",
            "grid_template_rows": null,
            "right": null,
            "justify_content": null,
            "_view_module": "@jupyter-widgets/base",
            "overflow": null,
            "_model_module_version": "1.2.0",
            "_view_count": null,
            "flex_flow": null,
            "width": null,
            "min_width": null,
            "border": null,
            "align_items": null,
            "bottom": null,
            "_model_module": "@jupyter-widgets/base",
            "top": null,
            "grid_column": null,
            "overflow_y": null,
            "overflow_x": null,
            "grid_auto_flow": null,
            "grid_area": null,
            "grid_template_columns": null,
            "flex": null,
            "_model_name": "LayoutModel",
            "justify_items": null,
            "grid_row": null,
            "max_height": null,
            "align_content": null,
            "visibility": null,
            "align_self": null,
            "height": null,
            "min_height": null,
            "padding": null,
            "grid_auto_rows": null,
            "grid_gap": null,
            "max_width": null,
            "order": null,
            "_view_module_version": "1.2.0",
            "grid_template_areas": null,
            "object_position": null,
            "object_fit": null,
            "grid_auto_columns": null,
            "margin": null,
            "display": null,
            "left": null
          }
        },
        "486b44682acb4d8c9670e6529714d132": {
          "model_module": "@jupyter-widgets/controls",
          "model_name": "DescriptionStyleModel",
          "model_module_version": "1.5.0",
          "state": {
            "_view_name": "StyleView",
            "_model_name": "DescriptionStyleModel",
            "description_width": "",
            "_view_module": "@jupyter-widgets/base",
            "_model_module_version": "1.5.0",
            "_view_count": null,
            "_view_module_version": "1.2.0",
            "_model_module": "@jupyter-widgets/controls"
          }
        },
        "0fe2e9fb4fda4b89848ea0baa797138b": {
          "model_module": "@jupyter-widgets/base",
          "model_name": "LayoutModel",
          "model_module_version": "1.2.0",
          "state": {
            "_view_name": "LayoutView",
            "grid_template_rows": null,
            "right": null,
            "justify_content": null,
            "_view_module": "@jupyter-widgets/base",
            "overflow": null,
            "_model_module_version": "1.2.0",
            "_view_count": null,
            "flex_flow": null,
            "width": null,
            "min_width": null,
            "border": null,
            "align_items": null,
            "bottom": null,
            "_model_module": "@jupyter-widgets/base",
            "top": null,
            "grid_column": null,
            "overflow_y": null,
            "overflow_x": null,
            "grid_auto_flow": null,
            "grid_area": null,
            "grid_template_columns": null,
            "flex": null,
            "_model_name": "LayoutModel",
            "justify_items": null,
            "grid_row": null,
            "max_height": null,
            "align_content": null,
            "visibility": null,
            "align_self": null,
            "height": null,
            "min_height": null,
            "padding": null,
            "grid_auto_rows": null,
            "grid_gap": null,
            "max_width": null,
            "order": null,
            "_view_module_version": "1.2.0",
            "grid_template_areas": null,
            "object_position": null,
            "object_fit": null,
            "grid_auto_columns": null,
            "margin": null,
            "display": null,
            "left": null
          }
        },
        "f2f086bd4d2b4c969a2c695b21ccccc5": {
          "model_module": "@jupyter-widgets/controls",
          "model_name": "HBoxModel",
          "model_module_version": "1.5.0",
          "state": {
            "_view_name": "HBoxView",
            "_dom_classes": [],
            "_model_name": "HBoxModel",
            "_view_module": "@jupyter-widgets/controls",
            "_model_module_version": "1.5.0",
            "_view_count": null,
            "_view_module_version": "1.5.0",
            "box_style": "",
            "layout": "IPY_MODEL_2ea848e854014efdab5b4b017d2129f1",
            "_model_module": "@jupyter-widgets/controls",
            "children": [
              "IPY_MODEL_b30bd8a5222d4d33ac19bc3c567922c2",
              "IPY_MODEL_6619551973e94b67a0946e41aa2863a5",
              "IPY_MODEL_9a8c377412894595a69c7f0318b5d80e"
            ]
          }
        },
        "2ea848e854014efdab5b4b017d2129f1": {
          "model_module": "@jupyter-widgets/base",
          "model_name": "LayoutModel",
          "model_module_version": "1.2.0",
          "state": {
            "_view_name": "LayoutView",
            "grid_template_rows": null,
            "right": null,
            "justify_content": null,
            "_view_module": "@jupyter-widgets/base",
            "overflow": null,
            "_model_module_version": "1.2.0",
            "_view_count": null,
            "flex_flow": null,
            "width": null,
            "min_width": null,
            "border": null,
            "align_items": null,
            "bottom": null,
            "_model_module": "@jupyter-widgets/base",
            "top": null,
            "grid_column": null,
            "overflow_y": null,
            "overflow_x": null,
            "grid_auto_flow": null,
            "grid_area": null,
            "grid_template_columns": null,
            "flex": null,
            "_model_name": "LayoutModel",
            "justify_items": null,
            "grid_row": null,
            "max_height": null,
            "align_content": null,
            "visibility": null,
            "align_self": null,
            "height": null,
            "min_height": null,
            "padding": null,
            "grid_auto_rows": null,
            "grid_gap": null,
            "max_width": null,
            "order": null,
            "_view_module_version": "1.2.0",
            "grid_template_areas": null,
            "object_position": null,
            "object_fit": null,
            "grid_auto_columns": null,
            "margin": null,
            "display": null,
            "left": null
          }
        },
        "b30bd8a5222d4d33ac19bc3c567922c2": {
          "model_module": "@jupyter-widgets/controls",
          "model_name": "HTMLModel",
          "model_module_version": "1.5.0",
          "state": {
            "_view_name": "HTMLView",
            "style": "IPY_MODEL_4b1b7d11a462473aa800d1a0b2df7498",
            "_dom_classes": [],
            "description": "",
            "_model_name": "HTMLModel",
            "placeholder": "​",
            "_view_module": "@jupyter-widgets/controls",
            "_model_module_version": "1.5.0",
            "value": "Downloading: 100%",
            "_view_count": null,
            "_view_module_version": "1.5.0",
            "description_tooltip": null,
            "_model_module": "@jupyter-widgets/controls",
            "layout": "IPY_MODEL_c1a8fed3df6e43b5938daa84f61f8036"
          }
        },
        "6619551973e94b67a0946e41aa2863a5": {
          "model_module": "@jupyter-widgets/controls",
          "model_name": "FloatProgressModel",
          "model_module_version": "1.5.0",
          "state": {
            "_view_name": "ProgressView",
            "style": "IPY_MODEL_cfed7abb58a14dd8aeea5522c4dc3bc5",
            "_dom_classes": [],
            "description": "",
            "_model_name": "FloatProgressModel",
            "bar_style": "success",
            "max": 734,
            "_view_module": "@jupyter-widgets/controls",
            "_model_module_version": "1.5.0",
            "value": 734,
            "_view_count": null,
            "_view_module_version": "1.5.0",
            "orientation": "horizontal",
            "min": 0,
            "description_tooltip": null,
            "_model_module": "@jupyter-widgets/controls",
            "layout": "IPY_MODEL_241b4be7b91b47efb76482c30cb05166"
          }
        },
        "9a8c377412894595a69c7f0318b5d80e": {
          "model_module": "@jupyter-widgets/controls",
          "model_name": "HTMLModel",
          "model_module_version": "1.5.0",
          "state": {
            "_view_name": "HTMLView",
            "style": "IPY_MODEL_4bc9ed2a631a426fb4972e4c0f78cbd7",
            "_dom_classes": [],
            "description": "",
            "_model_name": "HTMLModel",
            "placeholder": "​",
            "_view_module": "@jupyter-widgets/controls",
            "_model_module_version": "1.5.0",
            "value": " 734/734 [00:00&lt;00:00, 21.3kB/s]",
            "_view_count": null,
            "_view_module_version": "1.5.0",
            "description_tooltip": null,
            "_model_module": "@jupyter-widgets/controls",
            "layout": "IPY_MODEL_bf4cb6f9051345919c42f2c0664703cc"
          }
        },
        "4b1b7d11a462473aa800d1a0b2df7498": {
          "model_module": "@jupyter-widgets/controls",
          "model_name": "DescriptionStyleModel",
          "model_module_version": "1.5.0",
          "state": {
            "_view_name": "StyleView",
            "_model_name": "DescriptionStyleModel",
            "description_width": "",
            "_view_module": "@jupyter-widgets/base",
            "_model_module_version": "1.5.0",
            "_view_count": null,
            "_view_module_version": "1.2.0",
            "_model_module": "@jupyter-widgets/controls"
          }
        },
        "c1a8fed3df6e43b5938daa84f61f8036": {
          "model_module": "@jupyter-widgets/base",
          "model_name": "LayoutModel",
          "model_module_version": "1.2.0",
          "state": {
            "_view_name": "LayoutView",
            "grid_template_rows": null,
            "right": null,
            "justify_content": null,
            "_view_module": "@jupyter-widgets/base",
            "overflow": null,
            "_model_module_version": "1.2.0",
            "_view_count": null,
            "flex_flow": null,
            "width": null,
            "min_width": null,
            "border": null,
            "align_items": null,
            "bottom": null,
            "_model_module": "@jupyter-widgets/base",
            "top": null,
            "grid_column": null,
            "overflow_y": null,
            "overflow_x": null,
            "grid_auto_flow": null,
            "grid_area": null,
            "grid_template_columns": null,
            "flex": null,
            "_model_name": "LayoutModel",
            "justify_items": null,
            "grid_row": null,
            "max_height": null,
            "align_content": null,
            "visibility": null,
            "align_self": null,
            "height": null,
            "min_height": null,
            "padding": null,
            "grid_auto_rows": null,
            "grid_gap": null,
            "max_width": null,
            "order": null,
            "_view_module_version": "1.2.0",
            "grid_template_areas": null,
            "object_position": null,
            "object_fit": null,
            "grid_auto_columns": null,
            "margin": null,
            "display": null,
            "left": null
          }
        },
        "cfed7abb58a14dd8aeea5522c4dc3bc5": {
          "model_module": "@jupyter-widgets/controls",
          "model_name": "ProgressStyleModel",
          "model_module_version": "1.5.0",
          "state": {
            "_view_name": "StyleView",
            "_model_name": "ProgressStyleModel",
            "description_width": "",
            "_view_module": "@jupyter-widgets/base",
            "_model_module_version": "1.5.0",
            "_view_count": null,
            "_view_module_version": "1.2.0",
            "bar_color": null,
            "_model_module": "@jupyter-widgets/controls"
          }
        },
        "241b4be7b91b47efb76482c30cb05166": {
          "model_module": "@jupyter-widgets/base",
          "model_name": "LayoutModel",
          "model_module_version": "1.2.0",
          "state": {
            "_view_name": "LayoutView",
            "grid_template_rows": null,
            "right": null,
            "justify_content": null,
            "_view_module": "@jupyter-widgets/base",
            "overflow": null,
            "_model_module_version": "1.2.0",
            "_view_count": null,
            "flex_flow": null,
            "width": null,
            "min_width": null,
            "border": null,
            "align_items": null,
            "bottom": null,
            "_model_module": "@jupyter-widgets/base",
            "top": null,
            "grid_column": null,
            "overflow_y": null,
            "overflow_x": null,
            "grid_auto_flow": null,
            "grid_area": null,
            "grid_template_columns": null,
            "flex": null,
            "_model_name": "LayoutModel",
            "justify_items": null,
            "grid_row": null,
            "max_height": null,
            "align_content": null,
            "visibility": null,
            "align_self": null,
            "height": null,
            "min_height": null,
            "padding": null,
            "grid_auto_rows": null,
            "grid_gap": null,
            "max_width": null,
            "order": null,
            "_view_module_version": "1.2.0",
            "grid_template_areas": null,
            "object_position": null,
            "object_fit": null,
            "grid_auto_columns": null,
            "margin": null,
            "display": null,
            "left": null
          }
        },
        "4bc9ed2a631a426fb4972e4c0f78cbd7": {
          "model_module": "@jupyter-widgets/controls",
          "model_name": "DescriptionStyleModel",
          "model_module_version": "1.5.0",
          "state": {
            "_view_name": "StyleView",
            "_model_name": "DescriptionStyleModel",
            "description_width": "",
            "_view_module": "@jupyter-widgets/base",
            "_model_module_version": "1.5.0",
            "_view_count": null,
            "_view_module_version": "1.2.0",
            "_model_module": "@jupyter-widgets/controls"
          }
        },
        "bf4cb6f9051345919c42f2c0664703cc": {
          "model_module": "@jupyter-widgets/base",
          "model_name": "LayoutModel",
          "model_module_version": "1.2.0",
          "state": {
            "_view_name": "LayoutView",
            "grid_template_rows": null,
            "right": null,
            "justify_content": null,
            "_view_module": "@jupyter-widgets/base",
            "overflow": null,
            "_model_module_version": "1.2.0",
            "_view_count": null,
            "flex_flow": null,
            "width": null,
            "min_width": null,
            "border": null,
            "align_items": null,
            "bottom": null,
            "_model_module": "@jupyter-widgets/base",
            "top": null,
            "grid_column": null,
            "overflow_y": null,
            "overflow_x": null,
            "grid_auto_flow": null,
            "grid_area": null,
            "grid_template_columns": null,
            "flex": null,
            "_model_name": "LayoutModel",
            "justify_items": null,
            "grid_row": null,
            "max_height": null,
            "align_content": null,
            "visibility": null,
            "align_self": null,
            "height": null,
            "min_height": null,
            "padding": null,
            "grid_auto_rows": null,
            "grid_gap": null,
            "max_width": null,
            "order": null,
            "_view_module_version": "1.2.0",
            "grid_template_areas": null,
            "object_position": null,
            "object_fit": null,
            "grid_auto_columns": null,
            "margin": null,
            "display": null,
            "left": null
          }
        },
        "afe629a701c44b498a2d18c5956beac9": {
          "model_module": "@jupyter-widgets/controls",
          "model_name": "HBoxModel",
          "model_module_version": "1.5.0",
          "state": {
            "_view_name": "HBoxView",
            "_dom_classes": [],
            "_model_name": "HBoxModel",
            "_view_module": "@jupyter-widgets/controls",
            "_model_module_version": "1.5.0",
            "_view_count": null,
            "_view_module_version": "1.5.0",
            "box_style": "",
            "layout": "IPY_MODEL_8bf33a3520874f9dbda988d9b8da7c6d",
            "_model_module": "@jupyter-widgets/controls",
            "children": [
              "IPY_MODEL_757908deec724387833a9a12f7877e5c",
              "IPY_MODEL_e7a249a6e6e748d888a2ddfcf6af416a",
              "IPY_MODEL_7498c3d3581a448aa4ca50888f840a6b"
            ]
          }
        },
        "8bf33a3520874f9dbda988d9b8da7c6d": {
          "model_module": "@jupyter-widgets/base",
          "model_name": "LayoutModel",
          "model_module_version": "1.2.0",
          "state": {
            "_view_name": "LayoutView",
            "grid_template_rows": null,
            "right": null,
            "justify_content": null,
            "_view_module": "@jupyter-widgets/base",
            "overflow": null,
            "_model_module_version": "1.2.0",
            "_view_count": null,
            "flex_flow": null,
            "width": null,
            "min_width": null,
            "border": null,
            "align_items": null,
            "bottom": null,
            "_model_module": "@jupyter-widgets/base",
            "top": null,
            "grid_column": null,
            "overflow_y": null,
            "overflow_x": null,
            "grid_auto_flow": null,
            "grid_area": null,
            "grid_template_columns": null,
            "flex": null,
            "_model_name": "LayoutModel",
            "justify_items": null,
            "grid_row": null,
            "max_height": null,
            "align_content": null,
            "visibility": null,
            "align_self": null,
            "height": null,
            "min_height": null,
            "padding": null,
            "grid_auto_rows": null,
            "grid_gap": null,
            "max_width": null,
            "order": null,
            "_view_module_version": "1.2.0",
            "grid_template_areas": null,
            "object_position": null,
            "object_fit": null,
            "grid_auto_columns": null,
            "margin": null,
            "display": null,
            "left": null
          }
        },
        "757908deec724387833a9a12f7877e5c": {
          "model_module": "@jupyter-widgets/controls",
          "model_name": "HTMLModel",
          "model_module_version": "1.5.0",
          "state": {
            "_view_name": "HTMLView",
            "style": "IPY_MODEL_ca1309d4c80c40aa9e75b6080755b776",
            "_dom_classes": [],
            "description": "",
            "_model_name": "HTMLModel",
            "placeholder": "​",
            "_view_module": "@jupyter-widgets/controls",
            "_model_module_version": "1.5.0",
            "value": "Downloading: 100%",
            "_view_count": null,
            "_view_module_version": "1.5.0",
            "description_tooltip": null,
            "_model_module": "@jupyter-widgets/controls",
            "layout": "IPY_MODEL_b5369566c89c4f6486b0725897ab6bba"
          }
        },
        "e7a249a6e6e748d888a2ddfcf6af416a": {
          "model_module": "@jupyter-widgets/controls",
          "model_name": "FloatProgressModel",
          "model_module_version": "1.5.0",
          "state": {
            "_view_name": "ProgressView",
            "style": "IPY_MODEL_4b889c0b51034cbfbbef6ee6ce795498",
            "_dom_classes": [],
            "description": "",
            "_model_name": "FloatProgressModel",
            "bar_style": "success",
            "max": 5069051,
            "_view_module": "@jupyter-widgets/controls",
            "_model_module_version": "1.5.0",
            "value": 5069051,
            "_view_count": null,
            "_view_module_version": "1.5.0",
            "orientation": "horizontal",
            "min": 0,
            "description_tooltip": null,
            "_model_module": "@jupyter-widgets/controls",
            "layout": "IPY_MODEL_d678b453589b4cc288c14b80fcdd0486"
          }
        },
        "7498c3d3581a448aa4ca50888f840a6b": {
          "model_module": "@jupyter-widgets/controls",
          "model_name": "HTMLModel",
          "model_module_version": "1.5.0",
          "state": {
            "_view_name": "HTMLView",
            "style": "IPY_MODEL_674790c22d6741749b53992bdda75715",
            "_dom_classes": [],
            "description": "",
            "_model_name": "HTMLModel",
            "placeholder": "​",
            "_view_module": "@jupyter-widgets/controls",
            "_model_module_version": "1.5.0",
            "value": " 4.83M/4.83M [00:00&lt;00:00, 11.5MB/s]",
            "_view_count": null,
            "_view_module_version": "1.5.0",
            "description_tooltip": null,
            "_model_module": "@jupyter-widgets/controls",
            "layout": "IPY_MODEL_906c7f7f15074d5a9df99800faf4dd30"
          }
        },
        "ca1309d4c80c40aa9e75b6080755b776": {
          "model_module": "@jupyter-widgets/controls",
          "model_name": "DescriptionStyleModel",
          "model_module_version": "1.5.0",
          "state": {
            "_view_name": "StyleView",
            "_model_name": "DescriptionStyleModel",
            "description_width": "",
            "_view_module": "@jupyter-widgets/base",
            "_model_module_version": "1.5.0",
            "_view_count": null,
            "_view_module_version": "1.2.0",
            "_model_module": "@jupyter-widgets/controls"
          }
        },
        "b5369566c89c4f6486b0725897ab6bba": {
          "model_module": "@jupyter-widgets/base",
          "model_name": "LayoutModel",
          "model_module_version": "1.2.0",
          "state": {
            "_view_name": "LayoutView",
            "grid_template_rows": null,
            "right": null,
            "justify_content": null,
            "_view_module": "@jupyter-widgets/base",
            "overflow": null,
            "_model_module_version": "1.2.0",
            "_view_count": null,
            "flex_flow": null,
            "width": null,
            "min_width": null,
            "border": null,
            "align_items": null,
            "bottom": null,
            "_model_module": "@jupyter-widgets/base",
            "top": null,
            "grid_column": null,
            "overflow_y": null,
            "overflow_x": null,
            "grid_auto_flow": null,
            "grid_area": null,
            "grid_template_columns": null,
            "flex": null,
            "_model_name": "LayoutModel",
            "justify_items": null,
            "grid_row": null,
            "max_height": null,
            "align_content": null,
            "visibility": null,
            "align_self": null,
            "height": null,
            "min_height": null,
            "padding": null,
            "grid_auto_rows": null,
            "grid_gap": null,
            "max_width": null,
            "order": null,
            "_view_module_version": "1.2.0",
            "grid_template_areas": null,
            "object_position": null,
            "object_fit": null,
            "grid_auto_columns": null,
            "margin": null,
            "display": null,
            "left": null
          }
        },
        "4b889c0b51034cbfbbef6ee6ce795498": {
          "model_module": "@jupyter-widgets/controls",
          "model_name": "ProgressStyleModel",
          "model_module_version": "1.5.0",
          "state": {
            "_view_name": "StyleView",
            "_model_name": "ProgressStyleModel",
            "description_width": "",
            "_view_module": "@jupyter-widgets/base",
            "_model_module_version": "1.5.0",
            "_view_count": null,
            "_view_module_version": "1.2.0",
            "bar_color": null,
            "_model_module": "@jupyter-widgets/controls"
          }
        },
        "d678b453589b4cc288c14b80fcdd0486": {
          "model_module": "@jupyter-widgets/base",
          "model_name": "LayoutModel",
          "model_module_version": "1.2.0",
          "state": {
            "_view_name": "LayoutView",
            "grid_template_rows": null,
            "right": null,
            "justify_content": null,
            "_view_module": "@jupyter-widgets/base",
            "overflow": null,
            "_model_module_version": "1.2.0",
            "_view_count": null,
            "flex_flow": null,
            "width": null,
            "min_width": null,
            "border": null,
            "align_items": null,
            "bottom": null,
            "_model_module": "@jupyter-widgets/base",
            "top": null,
            "grid_column": null,
            "overflow_y": null,
            "overflow_x": null,
            "grid_auto_flow": null,
            "grid_area": null,
            "grid_template_columns": null,
            "flex": null,
            "_model_name": "LayoutModel",
            "justify_items": null,
            "grid_row": null,
            "max_height": null,
            "align_content": null,
            "visibility": null,
            "align_self": null,
            "height": null,
            "min_height": null,
            "padding": null,
            "grid_auto_rows": null,
            "grid_gap": null,
            "max_width": null,
            "order": null,
            "_view_module_version": "1.2.0",
            "grid_template_areas": null,
            "object_position": null,
            "object_fit": null,
            "grid_auto_columns": null,
            "margin": null,
            "display": null,
            "left": null
          }
        },
        "674790c22d6741749b53992bdda75715": {
          "model_module": "@jupyter-widgets/controls",
          "model_name": "DescriptionStyleModel",
          "model_module_version": "1.5.0",
          "state": {
            "_view_name": "StyleView",
            "_model_name": "DescriptionStyleModel",
            "description_width": "",
            "_view_module": "@jupyter-widgets/base",
            "_model_module_version": "1.5.0",
            "_view_count": null,
            "_view_module_version": "1.2.0",
            "_model_module": "@jupyter-widgets/controls"
          }
        },
        "906c7f7f15074d5a9df99800faf4dd30": {
          "model_module": "@jupyter-widgets/base",
          "model_name": "LayoutModel",
          "model_module_version": "1.2.0",
          "state": {
            "_view_name": "LayoutView",
            "grid_template_rows": null,
            "right": null,
            "justify_content": null,
            "_view_module": "@jupyter-widgets/base",
            "overflow": null,
            "_model_module_version": "1.2.0",
            "_view_count": null,
            "flex_flow": null,
            "width": null,
            "min_width": null,
            "border": null,
            "align_items": null,
            "bottom": null,
            "_model_module": "@jupyter-widgets/base",
            "top": null,
            "grid_column": null,
            "overflow_y": null,
            "overflow_x": null,
            "grid_auto_flow": null,
            "grid_area": null,
            "grid_template_columns": null,
            "flex": null,
            "_model_name": "LayoutModel",
            "justify_items": null,
            "grid_row": null,
            "max_height": null,
            "align_content": null,
            "visibility": null,
            "align_self": null,
            "height": null,
            "min_height": null,
            "padding": null,
            "grid_auto_rows": null,
            "grid_gap": null,
            "max_width": null,
            "order": null,
            "_view_module_version": "1.2.0",
            "grid_template_areas": null,
            "object_position": null,
            "object_fit": null,
            "grid_auto_columns": null,
            "margin": null,
            "display": null,
            "left": null
          }
        },
        "2e5855c0b4a7451e85efb55e64778a9f": {
          "model_module": "@jupyter-widgets/controls",
          "model_name": "HBoxModel",
          "model_module_version": "1.5.0",
          "state": {
            "_view_name": "HBoxView",
            "_dom_classes": [],
            "_model_name": "HBoxModel",
            "_view_module": "@jupyter-widgets/controls",
            "_model_module_version": "1.5.0",
            "_view_count": null,
            "_view_module_version": "1.5.0",
            "box_style": "",
            "layout": "IPY_MODEL_6b22312a4e844ea7b576c8a5feb3c38d",
            "_model_module": "@jupyter-widgets/controls",
            "children": [
              "IPY_MODEL_bbe346b5ac9e482aa54d6f19fc6f5a15",
              "IPY_MODEL_f59877088bbb49c88297c1448833fdb0",
              "IPY_MODEL_5c6f4e9560984d4caccafd19cc63bbea"
            ]
          }
        },
        "6b22312a4e844ea7b576c8a5feb3c38d": {
          "model_module": "@jupyter-widgets/base",
          "model_name": "LayoutModel",
          "model_module_version": "1.2.0",
          "state": {
            "_view_name": "LayoutView",
            "grid_template_rows": null,
            "right": null,
            "justify_content": null,
            "_view_module": "@jupyter-widgets/base",
            "overflow": null,
            "_model_module_version": "1.2.0",
            "_view_count": null,
            "flex_flow": null,
            "width": null,
            "min_width": null,
            "border": null,
            "align_items": null,
            "bottom": null,
            "_model_module": "@jupyter-widgets/base",
            "top": null,
            "grid_column": null,
            "overflow_y": null,
            "overflow_x": null,
            "grid_auto_flow": null,
            "grid_area": null,
            "grid_template_columns": null,
            "flex": null,
            "_model_name": "LayoutModel",
            "justify_items": null,
            "grid_row": null,
            "max_height": null,
            "align_content": null,
            "visibility": null,
            "align_self": null,
            "height": null,
            "min_height": null,
            "padding": null,
            "grid_auto_rows": null,
            "grid_gap": null,
            "max_width": null,
            "order": null,
            "_view_module_version": "1.2.0",
            "grid_template_areas": null,
            "object_position": null,
            "object_fit": null,
            "grid_auto_columns": null,
            "margin": null,
            "display": null,
            "left": null
          }
        },
        "bbe346b5ac9e482aa54d6f19fc6f5a15": {
          "model_module": "@jupyter-widgets/controls",
          "model_name": "HTMLModel",
          "model_module_version": "1.5.0",
          "state": {
            "_view_name": "HTMLView",
            "style": "IPY_MODEL_abf06e5b9c6a41e587b9243dc861d0d1",
            "_dom_classes": [],
            "description": "",
            "_model_name": "HTMLModel",
            "placeholder": "​",
            "_view_module": "@jupyter-widgets/controls",
            "_model_module_version": "1.5.0",
            "value": "Downloading: 100%",
            "_view_count": null,
            "_view_module_version": "1.5.0",
            "description_tooltip": null,
            "_model_module": "@jupyter-widgets/controls",
            "layout": "IPY_MODEL_d401be3c7e3c4c19b9fde892c63d8cbe"
          }
        },
        "f59877088bbb49c88297c1448833fdb0": {
          "model_module": "@jupyter-widgets/controls",
          "model_name": "FloatProgressModel",
          "model_module_version": "1.5.0",
          "state": {
            "_view_name": "ProgressView",
            "style": "IPY_MODEL_1d1112f5edb54be9b1f340904560cc4c",
            "_dom_classes": [],
            "description": "",
            "_model_name": "FloatProgressModel",
            "bar_style": "success",
            "max": 150,
            "_view_module": "@jupyter-widgets/controls",
            "_model_module_version": "1.5.0",
            "value": 150,
            "_view_count": null,
            "_view_module_version": "1.5.0",
            "orientation": "horizontal",
            "min": 0,
            "description_tooltip": null,
            "_model_module": "@jupyter-widgets/controls",
            "layout": "IPY_MODEL_ad7b82d75e9a491bb5c916cb759de557"
          }
        },
        "5c6f4e9560984d4caccafd19cc63bbea": {
          "model_module": "@jupyter-widgets/controls",
          "model_name": "HTMLModel",
          "model_module_version": "1.5.0",
          "state": {
            "_view_name": "HTMLView",
            "style": "IPY_MODEL_460cec32a2d146778943deb8cf69abf9",
            "_dom_classes": [],
            "description": "",
            "_model_name": "HTMLModel",
            "placeholder": "​",
            "_view_module": "@jupyter-widgets/controls",
            "_model_module_version": "1.5.0",
            "value": " 150/150 [00:00&lt;00:00, 5.56kB/s]",
            "_view_count": null,
            "_view_module_version": "1.5.0",
            "description_tooltip": null,
            "_model_module": "@jupyter-widgets/controls",
            "layout": "IPY_MODEL_672f35b7a38e42e692db9c184bd53391"
          }
        },
        "abf06e5b9c6a41e587b9243dc861d0d1": {
          "model_module": "@jupyter-widgets/controls",
          "model_name": "DescriptionStyleModel",
          "model_module_version": "1.5.0",
          "state": {
            "_view_name": "StyleView",
            "_model_name": "DescriptionStyleModel",
            "description_width": "",
            "_view_module": "@jupyter-widgets/base",
            "_model_module_version": "1.5.0",
            "_view_count": null,
            "_view_module_version": "1.2.0",
            "_model_module": "@jupyter-widgets/controls"
          }
        },
        "d401be3c7e3c4c19b9fde892c63d8cbe": {
          "model_module": "@jupyter-widgets/base",
          "model_name": "LayoutModel",
          "model_module_version": "1.2.0",
          "state": {
            "_view_name": "LayoutView",
            "grid_template_rows": null,
            "right": null,
            "justify_content": null,
            "_view_module": "@jupyter-widgets/base",
            "overflow": null,
            "_model_module_version": "1.2.0",
            "_view_count": null,
            "flex_flow": null,
            "width": null,
            "min_width": null,
            "border": null,
            "align_items": null,
            "bottom": null,
            "_model_module": "@jupyter-widgets/base",
            "top": null,
            "grid_column": null,
            "overflow_y": null,
            "overflow_x": null,
            "grid_auto_flow": null,
            "grid_area": null,
            "grid_template_columns": null,
            "flex": null,
            "_model_name": "LayoutModel",
            "justify_items": null,
            "grid_row": null,
            "max_height": null,
            "align_content": null,
            "visibility": null,
            "align_self": null,
            "height": null,
            "min_height": null,
            "padding": null,
            "grid_auto_rows": null,
            "grid_gap": null,
            "max_width": null,
            "order": null,
            "_view_module_version": "1.2.0",
            "grid_template_areas": null,
            "object_position": null,
            "object_fit": null,
            "grid_auto_columns": null,
            "margin": null,
            "display": null,
            "left": null
          }
        },
        "1d1112f5edb54be9b1f340904560cc4c": {
          "model_module": "@jupyter-widgets/controls",
          "model_name": "ProgressStyleModel",
          "model_module_version": "1.5.0",
          "state": {
            "_view_name": "StyleView",
            "_model_name": "ProgressStyleModel",
            "description_width": "",
            "_view_module": "@jupyter-widgets/base",
            "_model_module_version": "1.5.0",
            "_view_count": null,
            "_view_module_version": "1.2.0",
            "bar_color": null,
            "_model_module": "@jupyter-widgets/controls"
          }
        },
        "ad7b82d75e9a491bb5c916cb759de557": {
          "model_module": "@jupyter-widgets/base",
          "model_name": "LayoutModel",
          "model_module_version": "1.2.0",
          "state": {
            "_view_name": "LayoutView",
            "grid_template_rows": null,
            "right": null,
            "justify_content": null,
            "_view_module": "@jupyter-widgets/base",
            "overflow": null,
            "_model_module_version": "1.2.0",
            "_view_count": null,
            "flex_flow": null,
            "width": null,
            "min_width": null,
            "border": null,
            "align_items": null,
            "bottom": null,
            "_model_module": "@jupyter-widgets/base",
            "top": null,
            "grid_column": null,
            "overflow_y": null,
            "overflow_x": null,
            "grid_auto_flow": null,
            "grid_area": null,
            "grid_template_columns": null,
            "flex": null,
            "_model_name": "LayoutModel",
            "justify_items": null,
            "grid_row": null,
            "max_height": null,
            "align_content": null,
            "visibility": null,
            "align_self": null,
            "height": null,
            "min_height": null,
            "padding": null,
            "grid_auto_rows": null,
            "grid_gap": null,
            "max_width": null,
            "order": null,
            "_view_module_version": "1.2.0",
            "grid_template_areas": null,
            "object_position": null,
            "object_fit": null,
            "grid_auto_columns": null,
            "margin": null,
            "display": null,
            "left": null
          }
        },
        "460cec32a2d146778943deb8cf69abf9": {
          "model_module": "@jupyter-widgets/controls",
          "model_name": "DescriptionStyleModel",
          "model_module_version": "1.5.0",
          "state": {
            "_view_name": "StyleView",
            "_model_name": "DescriptionStyleModel",
            "description_width": "",
            "_view_module": "@jupyter-widgets/base",
            "_model_module_version": "1.5.0",
            "_view_count": null,
            "_view_module_version": "1.2.0",
            "_model_module": "@jupyter-widgets/controls"
          }
        },
        "672f35b7a38e42e692db9c184bd53391": {
          "model_module": "@jupyter-widgets/base",
          "model_name": "LayoutModel",
          "model_module_version": "1.2.0",
          "state": {
            "_view_name": "LayoutView",
            "grid_template_rows": null,
            "right": null,
            "justify_content": null,
            "_view_module": "@jupyter-widgets/base",
            "overflow": null,
            "_model_module_version": "1.2.0",
            "_view_count": null,
            "flex_flow": null,
            "width": null,
            "min_width": null,
            "border": null,
            "align_items": null,
            "bottom": null,
            "_model_module": "@jupyter-widgets/base",
            "top": null,
            "grid_column": null,
            "overflow_y": null,
            "overflow_x": null,
            "grid_auto_flow": null,
            "grid_area": null,
            "grid_template_columns": null,
            "flex": null,
            "_model_name": "LayoutModel",
            "justify_items": null,
            "grid_row": null,
            "max_height": null,
            "align_content": null,
            "visibility": null,
            "align_self": null,
            "height": null,
            "min_height": null,
            "padding": null,
            "grid_auto_rows": null,
            "grid_gap": null,
            "max_width": null,
            "order": null,
            "_view_module_version": "1.2.0",
            "grid_template_areas": null,
            "object_position": null,
            "object_fit": null,
            "grid_auto_columns": null,
            "margin": null,
            "display": null,
            "left": null
          }
        },
        "da3dde8815b240c6a8775836b0a37f1d": {
          "model_module": "@jupyter-widgets/controls",
          "model_name": "HBoxModel",
          "model_module_version": "1.5.0",
          "state": {
            "_view_name": "HBoxView",
            "_dom_classes": [],
            "_model_name": "HBoxModel",
            "_view_module": "@jupyter-widgets/controls",
            "_model_module_version": "1.5.0",
            "_view_count": null,
            "_view_module_version": "1.5.0",
            "box_style": "",
            "layout": "IPY_MODEL_5c6a85a3e1254da19d49a8a7db830006",
            "_model_module": "@jupyter-widgets/controls",
            "children": [
              "IPY_MODEL_5a9b7f535b134bef9f468f9432edbced",
              "IPY_MODEL_dd4375f32b624cf3be8c5b7da3d90fc3",
              "IPY_MODEL_8ea9252b6da9426ba173686e1ee58e9a"
            ]
          }
        },
        "5c6a85a3e1254da19d49a8a7db830006": {
          "model_module": "@jupyter-widgets/base",
          "model_name": "LayoutModel",
          "model_module_version": "1.2.0",
          "state": {
            "_view_name": "LayoutView",
            "grid_template_rows": null,
            "right": null,
            "justify_content": null,
            "_view_module": "@jupyter-widgets/base",
            "overflow": null,
            "_model_module_version": "1.2.0",
            "_view_count": null,
            "flex_flow": null,
            "width": null,
            "min_width": null,
            "border": null,
            "align_items": null,
            "bottom": null,
            "_model_module": "@jupyter-widgets/base",
            "top": null,
            "grid_column": null,
            "overflow_y": null,
            "overflow_x": null,
            "grid_auto_flow": null,
            "grid_area": null,
            "grid_template_columns": null,
            "flex": null,
            "_model_name": "LayoutModel",
            "justify_items": null,
            "grid_row": null,
            "max_height": null,
            "align_content": null,
            "visibility": null,
            "align_self": null,
            "height": null,
            "min_height": null,
            "padding": null,
            "grid_auto_rows": null,
            "grid_gap": null,
            "max_width": null,
            "order": null,
            "_view_module_version": "1.2.0",
            "grid_template_areas": null,
            "object_position": null,
            "object_fit": null,
            "grid_auto_columns": null,
            "margin": null,
            "display": null,
            "left": null
          }
        },
        "5a9b7f535b134bef9f468f9432edbced": {
          "model_module": "@jupyter-widgets/controls",
          "model_name": "HTMLModel",
          "model_module_version": "1.5.0",
          "state": {
            "_view_name": "HTMLView",
            "style": "IPY_MODEL_bd6d4e199f794f94a9a4962ac9a875e0",
            "_dom_classes": [],
            "description": "",
            "_model_name": "HTMLModel",
            "placeholder": "​",
            "_view_module": "@jupyter-widgets/controls",
            "_model_module_version": "1.5.0",
            "value": "Downloading: 100%",
            "_view_count": null,
            "_view_module_version": "1.5.0",
            "description_tooltip": null,
            "_model_module": "@jupyter-widgets/controls",
            "layout": "IPY_MODEL_e27505e447544913b06c58151e55ce5a"
          }
        },
        "dd4375f32b624cf3be8c5b7da3d90fc3": {
          "model_module": "@jupyter-widgets/controls",
          "model_name": "FloatProgressModel",
          "model_module_version": "1.5.0",
          "state": {
            "_view_name": "ProgressView",
            "style": "IPY_MODEL_8c87ac9e6f8245da92cba7c3c2203b04",
            "_dom_classes": [],
            "description": "",
            "_model_name": "FloatProgressModel",
            "bar_style": "success",
            "max": 2244296816,
            "_view_module": "@jupyter-widgets/controls",
            "_model_module_version": "1.5.0",
            "value": 2244296816,
            "_view_count": null,
            "_view_module_version": "1.5.0",
            "orientation": "horizontal",
            "min": 0,
            "description_tooltip": null,
            "_model_module": "@jupyter-widgets/controls",
            "layout": "IPY_MODEL_27dd7fdf8bd546a0850dc432e571ceac"
          }
        },
        "8ea9252b6da9426ba173686e1ee58e9a": {
          "model_module": "@jupyter-widgets/controls",
          "model_name": "HTMLModel",
          "model_module_version": "1.5.0",
          "state": {
            "_view_name": "HTMLView",
            "style": "IPY_MODEL_854167ee31a145c088e022d79df53ab5",
            "_dom_classes": [],
            "description": "",
            "_model_name": "HTMLModel",
            "placeholder": "​",
            "_view_module": "@jupyter-widgets/controls",
            "_model_module_version": "1.5.0",
            "value": " 2.09G/2.09G [01:03&lt;00:00, 30.8MB/s]",
            "_view_count": null,
            "_view_module_version": "1.5.0",
            "description_tooltip": null,
            "_model_module": "@jupyter-widgets/controls",
            "layout": "IPY_MODEL_0b8a1f308c22429e9f1f119f6d993fa1"
          }
        },
        "bd6d4e199f794f94a9a4962ac9a875e0": {
          "model_module": "@jupyter-widgets/controls",
          "model_name": "DescriptionStyleModel",
          "model_module_version": "1.5.0",
          "state": {
            "_view_name": "StyleView",
            "_model_name": "DescriptionStyleModel",
            "description_width": "",
            "_view_module": "@jupyter-widgets/base",
            "_model_module_version": "1.5.0",
            "_view_count": null,
            "_view_module_version": "1.2.0",
            "_model_module": "@jupyter-widgets/controls"
          }
        },
        "e27505e447544913b06c58151e55ce5a": {
          "model_module": "@jupyter-widgets/base",
          "model_name": "LayoutModel",
          "model_module_version": "1.2.0",
          "state": {
            "_view_name": "LayoutView",
            "grid_template_rows": null,
            "right": null,
            "justify_content": null,
            "_view_module": "@jupyter-widgets/base",
            "overflow": null,
            "_model_module_version": "1.2.0",
            "_view_count": null,
            "flex_flow": null,
            "width": null,
            "min_width": null,
            "border": null,
            "align_items": null,
            "bottom": null,
            "_model_module": "@jupyter-widgets/base",
            "top": null,
            "grid_column": null,
            "overflow_y": null,
            "overflow_x": null,
            "grid_auto_flow": null,
            "grid_area": null,
            "grid_template_columns": null,
            "flex": null,
            "_model_name": "LayoutModel",
            "justify_items": null,
            "grid_row": null,
            "max_height": null,
            "align_content": null,
            "visibility": null,
            "align_self": null,
            "height": null,
            "min_height": null,
            "padding": null,
            "grid_auto_rows": null,
            "grid_gap": null,
            "max_width": null,
            "order": null,
            "_view_module_version": "1.2.0",
            "grid_template_areas": null,
            "object_position": null,
            "object_fit": null,
            "grid_auto_columns": null,
            "margin": null,
            "display": null,
            "left": null
          }
        },
        "8c87ac9e6f8245da92cba7c3c2203b04": {
          "model_module": "@jupyter-widgets/controls",
          "model_name": "ProgressStyleModel",
          "model_module_version": "1.5.0",
          "state": {
            "_view_name": "StyleView",
            "_model_name": "ProgressStyleModel",
            "description_width": "",
            "_view_module": "@jupyter-widgets/base",
            "_model_module_version": "1.5.0",
            "_view_count": null,
            "_view_module_version": "1.2.0",
            "bar_color": null,
            "_model_module": "@jupyter-widgets/controls"
          }
        },
        "27dd7fdf8bd546a0850dc432e571ceac": {
          "model_module": "@jupyter-widgets/base",
          "model_name": "LayoutModel",
          "model_module_version": "1.2.0",
          "state": {
            "_view_name": "LayoutView",
            "grid_template_rows": null,
            "right": null,
            "justify_content": null,
            "_view_module": "@jupyter-widgets/base",
            "overflow": null,
            "_model_module_version": "1.2.0",
            "_view_count": null,
            "flex_flow": null,
            "width": null,
            "min_width": null,
            "border": null,
            "align_items": null,
            "bottom": null,
            "_model_module": "@jupyter-widgets/base",
            "top": null,
            "grid_column": null,
            "overflow_y": null,
            "overflow_x": null,
            "grid_auto_flow": null,
            "grid_area": null,
            "grid_template_columns": null,
            "flex": null,
            "_model_name": "LayoutModel",
            "justify_items": null,
            "grid_row": null,
            "max_height": null,
            "align_content": null,
            "visibility": null,
            "align_self": null,
            "height": null,
            "min_height": null,
            "padding": null,
            "grid_auto_rows": null,
            "grid_gap": null,
            "max_width": null,
            "order": null,
            "_view_module_version": "1.2.0",
            "grid_template_areas": null,
            "object_position": null,
            "object_fit": null,
            "grid_auto_columns": null,
            "margin": null,
            "display": null,
            "left": null
          }
        },
        "854167ee31a145c088e022d79df53ab5": {
          "model_module": "@jupyter-widgets/controls",
          "model_name": "DescriptionStyleModel",
          "model_module_version": "1.5.0",
          "state": {
            "_view_name": "StyleView",
            "_model_name": "DescriptionStyleModel",
            "description_width": "",
            "_view_module": "@jupyter-widgets/base",
            "_model_module_version": "1.5.0",
            "_view_count": null,
            "_view_module_version": "1.2.0",
            "_model_module": "@jupyter-widgets/controls"
          }
        },
        "0b8a1f308c22429e9f1f119f6d993fa1": {
          "model_module": "@jupyter-widgets/base",
          "model_name": "LayoutModel",
          "model_module_version": "1.2.0",
          "state": {
            "_view_name": "LayoutView",
            "grid_template_rows": null,
            "right": null,
            "justify_content": null,
            "_view_module": "@jupyter-widgets/base",
            "overflow": null,
            "_model_module_version": "1.2.0",
            "_view_count": null,
            "flex_flow": null,
            "width": null,
            "min_width": null,
            "border": null,
            "align_items": null,
            "bottom": null,
            "_model_module": "@jupyter-widgets/base",
            "top": null,
            "grid_column": null,
            "overflow_y": null,
            "overflow_x": null,
            "grid_auto_flow": null,
            "grid_area": null,
            "grid_template_columns": null,
            "flex": null,
            "_model_name": "LayoutModel",
            "justify_items": null,
            "grid_row": null,
            "max_height": null,
            "align_content": null,
            "visibility": null,
            "align_self": null,
            "height": null,
            "min_height": null,
            "padding": null,
            "grid_auto_rows": null,
            "grid_gap": null,
            "max_width": null,
            "order": null,
            "_view_module_version": "1.2.0",
            "grid_template_areas": null,
            "object_position": null,
            "object_fit": null,
            "grid_auto_columns": null,
            "margin": null,
            "display": null,
            "left": null
          }
        }
      }
    }
  },
  "cells": [
    {
      "cell_type": "markdown",
      "metadata": {
        "id": "view-in-github",
        "colab_type": "text"
      },
      "source": [
        "<a href=\"https://colab.research.google.com/github/luandinhngo/Artificial-Intelligence/blob/main/Baseline_NLI_tf_1_fold.ipynb\" target=\"_parent\"><img src=\"https://colab.research.google.com/assets/colab-badge.svg\" alt=\"Open In Colab\"/></a>"
      ]
    },
    {
      "cell_type": "markdown",
      "metadata": {
        "id": "U5JhFKuKJoZF"
      },
      "source": [
        "# import data"
      ],
      "id": "U5JhFKuKJoZF"
    },
    {
      "cell_type": "code",
      "metadata": {
        "colab": {
          "base_uri": "https://localhost:8080/"
        },
        "id": "english-campaign",
        "outputId": "20582699-f716-4967-a1cb-8566546342a8"
      },
      "source": [
        "import pandas as pd\n",
        "import numpy as np\n",
        "import matplotlib.pyplot as plt\n",
        "import tensorflow as tf\n",
        "import os, pickle, re, keras, sklearn, string\n",
        "np.random.seed(0)\n",
        "try:\n",
        "    tpu = tf.distribute.cluster_resolver.TPUClusterResolver()\n",
        "    tf.config.experimental_connect_to_cluster(tpu)\n",
        "    tf.tpu.experimental.initialize_tpu_system(tpu)\n",
        "    strategy = tf.distribute.experimental.TPUStrategy(tpu)\n",
        "except ValueError:\n",
        "    strategy = tf.distribute.get_strategy() # for CPU and single GPU\n",
        "print('Number of replicas:', strategy.num_replicas_in_sync)"
      ],
      "id": "english-campaign",
      "execution_count": 1,
      "outputs": [
        {
          "output_type": "stream",
          "name": "stdout",
          "text": [
            "Number of replicas: 1\n"
          ]
        }
      ]
    },
    {
      "cell_type": "code",
      "metadata": {
        "colab": {
          "base_uri": "https://localhost:8080/"
        },
        "id": "h54zKeuY_TS0",
        "outputId": "967d3651-3176-4652-e0ad-5f7fd829a7a9"
      },
      "source": [
        "!nvidia-smi"
      ],
      "id": "h54zKeuY_TS0",
      "execution_count": 2,
      "outputs": [
        {
          "output_type": "stream",
          "name": "stdout",
          "text": [
            "Fri Oct 29 08:13:34 2021       \n",
            "+-----------------------------------------------------------------------------+\n",
            "| NVIDIA-SMI 495.29.05    Driver Version: 460.32.03    CUDA Version: 11.2     |\n",
            "|-------------------------------+----------------------+----------------------+\n",
            "| GPU  Name        Persistence-M| Bus-Id        Disp.A | Volatile Uncorr. ECC |\n",
            "| Fan  Temp  Perf  Pwr:Usage/Cap|         Memory-Usage | GPU-Util  Compute M. |\n",
            "|                               |                      |               MIG M. |\n",
            "|===============================+======================+======================|\n",
            "|   0  Tesla P100-PCIE...  Off  | 00000000:00:04.0 Off |                    0 |\n",
            "| N/A   37C    P0    30W / 250W |      0MiB / 16280MiB |      0%      Default |\n",
            "|                               |                      |                  N/A |\n",
            "+-------------------------------+----------------------+----------------------+\n",
            "                                                                               \n",
            "+-----------------------------------------------------------------------------+\n",
            "| Processes:                                                                  |\n",
            "|  GPU   GI   CI        PID   Type   Process name                  GPU Memory |\n",
            "|        ID   ID                                                   Usage      |\n",
            "|=============================================================================|\n",
            "|  No running processes found                                                 |\n",
            "+-----------------------------------------------------------------------------+\n"
          ]
        }
      ]
    },
    {
      "cell_type": "code",
      "metadata": {
        "colab": {
          "base_uri": "https://localhost:8080/"
        },
        "id": "TrfxS5887IJN",
        "outputId": "39f18138-d4f9-4a69-ed2b-61e9f5d16fee"
      },
      "source": [
        "from google.colab import drive\n",
        "drive.mount('/content/drive')"
      ],
      "id": "TrfxS5887IJN",
      "execution_count": 3,
      "outputs": [
        {
          "output_type": "stream",
          "name": "stdout",
          "text": [
            "Mounted at /content/drive\n"
          ]
        }
      ]
    },
    {
      "cell_type": "code",
      "metadata": {
        "colab": {
          "base_uri": "https://localhost:8080/"
        },
        "id": "traditional-moses",
        "outputId": "07ab8385-10c8-40cd-c82f-dd3d5125daab"
      },
      "source": [
        "!pip install transformers\n",
        "from transformers import TFAutoModel,AutoTokenizer\n",
        "import tensorflow as tf\n",
        "!pip install sentencepiece\n",
        "!pip install pyyaml h5py"
      ],
      "id": "traditional-moses",
      "execution_count": 4,
      "outputs": [
        {
          "output_type": "stream",
          "name": "stdout",
          "text": [
            "Collecting transformers\n",
            "  Downloading transformers-4.12.0-py3-none-any.whl (3.1 MB)\n",
            "\u001b[K     |████████████████████████████████| 3.1 MB 13.2 MB/s \n",
            "\u001b[?25hCollecting huggingface-hub>=0.0.17\n",
            "  Downloading huggingface_hub-0.0.19-py3-none-any.whl (56 kB)\n",
            "\u001b[K     |████████████████████████████████| 56 kB 6.0 MB/s \n",
            "\u001b[?25hRequirement already satisfied: packaging>=20.0 in /usr/local/lib/python3.7/dist-packages (from transformers) (21.0)\n",
            "Collecting sacremoses\n",
            "  Downloading sacremoses-0.0.46-py3-none-any.whl (895 kB)\n",
            "\u001b[K     |████████████████████████████████| 895 kB 45.8 MB/s \n",
            "\u001b[?25hRequirement already satisfied: requests in /usr/local/lib/python3.7/dist-packages (from transformers) (2.23.0)\n",
            "Requirement already satisfied: tqdm>=4.27 in /usr/local/lib/python3.7/dist-packages (from transformers) (4.62.3)\n",
            "Requirement already satisfied: importlib-metadata in /usr/local/lib/python3.7/dist-packages (from transformers) (4.8.1)\n",
            "Collecting tokenizers<0.11,>=0.10.1\n",
            "  Downloading tokenizers-0.10.3-cp37-cp37m-manylinux_2_5_x86_64.manylinux1_x86_64.manylinux_2_12_x86_64.manylinux2010_x86_64.whl (3.3 MB)\n",
            "\u001b[K     |████████████████████████████████| 3.3 MB 59.2 MB/s \n",
            "\u001b[?25hRequirement already satisfied: regex!=2019.12.17 in /usr/local/lib/python3.7/dist-packages (from transformers) (2019.12.20)\n",
            "Requirement already satisfied: numpy>=1.17 in /usr/local/lib/python3.7/dist-packages (from transformers) (1.19.5)\n",
            "Requirement already satisfied: filelock in /usr/local/lib/python3.7/dist-packages (from transformers) (3.3.0)\n",
            "Collecting pyyaml>=5.1\n",
            "  Downloading PyYAML-6.0-cp37-cp37m-manylinux_2_5_x86_64.manylinux1_x86_64.manylinux_2_12_x86_64.manylinux2010_x86_64.whl (596 kB)\n",
            "\u001b[K     |████████████████████████████████| 596 kB 51.9 MB/s \n",
            "\u001b[?25hRequirement already satisfied: typing-extensions in /usr/local/lib/python3.7/dist-packages (from huggingface-hub>=0.0.17->transformers) (3.7.4.3)\n",
            "Requirement already satisfied: pyparsing>=2.0.2 in /usr/local/lib/python3.7/dist-packages (from packaging>=20.0->transformers) (2.4.7)\n",
            "Requirement already satisfied: zipp>=0.5 in /usr/local/lib/python3.7/dist-packages (from importlib-metadata->transformers) (3.6.0)\n",
            "Requirement already satisfied: chardet<4,>=3.0.2 in /usr/local/lib/python3.7/dist-packages (from requests->transformers) (3.0.4)\n",
            "Requirement already satisfied: urllib3!=1.25.0,!=1.25.1,<1.26,>=1.21.1 in /usr/local/lib/python3.7/dist-packages (from requests->transformers) (1.24.3)\n",
            "Requirement already satisfied: idna<3,>=2.5 in /usr/local/lib/python3.7/dist-packages (from requests->transformers) (2.10)\n",
            "Requirement already satisfied: certifi>=2017.4.17 in /usr/local/lib/python3.7/dist-packages (from requests->transformers) (2021.5.30)\n",
            "Requirement already satisfied: joblib in /usr/local/lib/python3.7/dist-packages (from sacremoses->transformers) (1.0.1)\n",
            "Requirement already satisfied: click in /usr/local/lib/python3.7/dist-packages (from sacremoses->transformers) (7.1.2)\n",
            "Requirement already satisfied: six in /usr/local/lib/python3.7/dist-packages (from sacremoses->transformers) (1.15.0)\n",
            "Installing collected packages: pyyaml, tokenizers, sacremoses, huggingface-hub, transformers\n",
            "  Attempting uninstall: pyyaml\n",
            "    Found existing installation: PyYAML 3.13\n",
            "    Uninstalling PyYAML-3.13:\n",
            "      Successfully uninstalled PyYAML-3.13\n",
            "Successfully installed huggingface-hub-0.0.19 pyyaml-6.0 sacremoses-0.0.46 tokenizers-0.10.3 transformers-4.12.0\n",
            "Collecting sentencepiece\n",
            "  Downloading sentencepiece-0.1.96-cp37-cp37m-manylinux_2_17_x86_64.manylinux2014_x86_64.whl (1.2 MB)\n",
            "\u001b[K     |████████████████████████████████| 1.2 MB 13.0 MB/s \n",
            "\u001b[?25hInstalling collected packages: sentencepiece\n",
            "Successfully installed sentencepiece-0.1.96\n",
            "Requirement already satisfied: pyyaml in /usr/local/lib/python3.7/dist-packages (6.0)\n",
            "Requirement already satisfied: h5py in /usr/local/lib/python3.7/dist-packages (3.1.0)\n",
            "Requirement already satisfied: cached-property in /usr/local/lib/python3.7/dist-packages (from h5py) (1.5.2)\n",
            "Requirement already satisfied: numpy>=1.14.5 in /usr/local/lib/python3.7/dist-packages (from h5py) (1.19.5)\n"
          ]
        }
      ]
    },
    {
      "cell_type": "markdown",
      "metadata": {
        "id": "-v2Yhzh7AKIr"
      },
      "source": [
        "#K-Fold\n"
      ],
      "id": "-v2Yhzh7AKIr"
    },
    {
      "cell_type": "code",
      "metadata": {
        "id": "uiJeRo7iP1fM",
        "colab": {
          "base_uri": "https://localhost:8080/",
          "height": 145,
          "referenced_widgets": [
            "75a70ec21ada4ff384a96c92b980b0a6",
            "2d9ec5d537c64f83ab8870b05781e6e9",
            "49e8df98bf594086870b5977893d9b60",
            "f4f38043fd1246cb880f422a8b6baa9a",
            "96cf802732f648a09112051e988d30c4",
            "229a73031b8846379c2b92256d7cb4fa",
            "dbfc39dd32a04cdb8524c388c18d5be3",
            "8d64ea4ca1f142be98c5ac8d317957b4",
            "0d516e709a3a4dd4b020f9231ae794ac",
            "486b44682acb4d8c9670e6529714d132",
            "0fe2e9fb4fda4b89848ea0baa797138b",
            "f2f086bd4d2b4c969a2c695b21ccccc5",
            "2ea848e854014efdab5b4b017d2129f1",
            "b30bd8a5222d4d33ac19bc3c567922c2",
            "6619551973e94b67a0946e41aa2863a5",
            "9a8c377412894595a69c7f0318b5d80e",
            "4b1b7d11a462473aa800d1a0b2df7498",
            "c1a8fed3df6e43b5938daa84f61f8036",
            "cfed7abb58a14dd8aeea5522c4dc3bc5",
            "241b4be7b91b47efb76482c30cb05166",
            "4bc9ed2a631a426fb4972e4c0f78cbd7",
            "bf4cb6f9051345919c42f2c0664703cc",
            "afe629a701c44b498a2d18c5956beac9",
            "8bf33a3520874f9dbda988d9b8da7c6d",
            "757908deec724387833a9a12f7877e5c",
            "e7a249a6e6e748d888a2ddfcf6af416a",
            "7498c3d3581a448aa4ca50888f840a6b",
            "ca1309d4c80c40aa9e75b6080755b776",
            "b5369566c89c4f6486b0725897ab6bba",
            "4b889c0b51034cbfbbef6ee6ce795498",
            "d678b453589b4cc288c14b80fcdd0486",
            "674790c22d6741749b53992bdda75715",
            "906c7f7f15074d5a9df99800faf4dd30",
            "2e5855c0b4a7451e85efb55e64778a9f",
            "6b22312a4e844ea7b576c8a5feb3c38d",
            "bbe346b5ac9e482aa54d6f19fc6f5a15",
            "f59877088bbb49c88297c1448833fdb0",
            "5c6f4e9560984d4caccafd19cc63bbea",
            "abf06e5b9c6a41e587b9243dc861d0d1",
            "d401be3c7e3c4c19b9fde892c63d8cbe",
            "1d1112f5edb54be9b1f340904560cc4c",
            "ad7b82d75e9a491bb5c916cb759de557",
            "460cec32a2d146778943deb8cf69abf9",
            "672f35b7a38e42e692db9c184bd53391"
          ]
        },
        "outputId": "99e77c23-00b2-4033-b756-d4ea9551cf69"
      },
      "source": [
        "tokenizer=AutoTokenizer.from_pretrained('joeddav/xlm-roberta-large-xnli')"
      ],
      "id": "uiJeRo7iP1fM",
      "execution_count": 5,
      "outputs": [
        {
          "output_type": "display_data",
          "data": {
            "application/vnd.jupyter.widget-view+json": {
              "model_id": "75a70ec21ada4ff384a96c92b980b0a6",
              "version_minor": 0,
              "version_major": 2
            },
            "text/plain": [
              "Downloading:   0%|          | 0.00/25.0 [00:00<?, ?B/s]"
            ]
          },
          "metadata": {}
        },
        {
          "output_type": "display_data",
          "data": {
            "application/vnd.jupyter.widget-view+json": {
              "model_id": "f2f086bd4d2b4c969a2c695b21ccccc5",
              "version_minor": 0,
              "version_major": 2
            },
            "text/plain": [
              "Downloading:   0%|          | 0.00/734 [00:00<?, ?B/s]"
            ]
          },
          "metadata": {}
        },
        {
          "output_type": "display_data",
          "data": {
            "application/vnd.jupyter.widget-view+json": {
              "model_id": "afe629a701c44b498a2d18c5956beac9",
              "version_minor": 0,
              "version_major": 2
            },
            "text/plain": [
              "Downloading:   0%|          | 0.00/4.83M [00:00<?, ?B/s]"
            ]
          },
          "metadata": {}
        },
        {
          "output_type": "display_data",
          "data": {
            "application/vnd.jupyter.widget-view+json": {
              "model_id": "2e5855c0b4a7451e85efb55e64778a9f",
              "version_minor": 0,
              "version_major": 2
            },
            "text/plain": [
              "Downloading:   0%|          | 0.00/150 [00:00<?, ?B/s]"
            ]
          },
          "metadata": {}
        }
      ]
    },
    {
      "cell_type": "code",
      "metadata": {
        "id": "wSlGU5Isjg78",
        "colab": {
          "base_uri": "https://localhost:8080/"
        },
        "outputId": "10f76b5b-fcd2-4d6a-9541-f054934353b6"
      },
      "source": [
        "from sklearn.model_selection import KFold, StratifiedKFold\n",
        "from sklearn.preprocessing import LabelEncoder\n",
        "from sklearn.utils import shuffle\n",
        "kf = StratifiedKFold(n_splits=10, shuffle=True, random_state=1024)\n",
        "fold_no = 1\n",
        "df = shuffle(train)\n",
        "y = df['label']\n",
        "from sklearn.preprocessing import LabelEncoder\n",
        "\n",
        "label_encoder = LabelEncoder()\n",
        "y = label_encoder.fit_transform(y)\n",
        "train_df_list = []\n",
        "val_df_list = []\n",
        "fold_list = list(kf.split(df, y))\n",
        "for i, fold in enumerate(fold_list):\n",
        "  df_train = df[df.index.isin(fold[0])]\n",
        "  df_val = df[df.index.isin(fold[1])]\n",
        "  train_df_list.append(df_train)\n",
        "  val_df_list.append(df_val)\n",
        "  print(i)\n",
        "  "
      ],
      "id": "wSlGU5Isjg78",
      "execution_count": null,
      "outputs": [
        {
          "output_type": "stream",
          "name": "stdout",
          "text": [
            "0\n",
            "1\n",
            "2\n",
            "3\n",
            "4\n",
            "5\n",
            "6\n",
            "7\n",
            "8\n",
            "9\n"
          ]
        }
      ]
    },
    {
      "cell_type": "code",
      "metadata": {
        "colab": {
          "base_uri": "https://localhost:8080/"
        },
        "id": "NNkVF3wahVr1",
        "outputId": "a9717371-715b-4684-f912-a54e3942a95c"
      },
      "source": [
        "cd /content/drive/MyDrive/VLSP/weight_10_fold"
      ],
      "id": "NNkVF3wahVr1",
      "execution_count": null,
      "outputs": [
        {
          "output_type": "stream",
          "name": "stdout",
          "text": [
            "/content/drive/MyDrive/VLSP/weight_10_fold\n"
          ]
        }
      ]
    },
    {
      "cell_type": "code",
      "metadata": {
        "colab": {
          "base_uri": "https://localhost:8080/",
          "height": 477,
          "referenced_widgets": [
            "da3dde8815b240c6a8775836b0a37f1d",
            "5c6a85a3e1254da19d49a8a7db830006",
            "5a9b7f535b134bef9f468f9432edbced",
            "dd4375f32b624cf3be8c5b7da3d90fc3",
            "8ea9252b6da9426ba173686e1ee58e9a",
            "bd6d4e199f794f94a9a4962ac9a875e0",
            "e27505e447544913b06c58151e55ce5a",
            "8c87ac9e6f8245da92cba7c3c2203b04",
            "27dd7fdf8bd546a0850dc432e571ceac",
            "854167ee31a145c088e022d79df53ab5",
            "0b8a1f308c22429e9f1f119f6d993fa1"
          ]
        },
        "id": "Y5sazajwqqUt",
        "outputId": "ccdc2694-f4bc-48a6-a7e7-3486d30fa125"
      },
      "source": [
        "with strategy.scope():\n",
        "    input_ids = tf.keras.Input(shape = (100,), dtype = tf.int32,name='input_word_ids') \n",
        "    input_mask=tf.keras.Input(shape=(100,),dtype=tf.int32,name='input_mask')    \n",
        "    roberta = TFAutoModel.from_pretrained('joeddav/xlm-roberta-large-xnli')\n",
        "    roberta = roberta([input_ids,input_mask])[0]\n",
        "    output = tf.keras.layers.GlobalAveragePooling1D()(roberta)\n",
        "    # output2 = tf.keras.layers.GlobalMaxPooling1D()(roberta)\n",
        "    # output = tf.keras.layers.concatenate([output1,output2],axis=1)\n",
        "    output = tf.keras.layers.Dense(3, activation = 'softmax')(output)\n",
        "    model = tf.keras.Model(inputs = [input_ids,input_mask], outputs = output)\n",
        "    model.compile(optimizer = tf.keras.optimizers.Adam(learning_rate = 1e-5), \n",
        "                  loss = 'sparse_categorical_crossentropy', \n",
        "                  metrics = ['accuracy'])\n",
        "    model.summary()"
      ],
      "id": "Y5sazajwqqUt",
      "execution_count": 6,
      "outputs": [
        {
          "output_type": "display_data",
          "data": {
            "application/vnd.jupyter.widget-view+json": {
              "model_id": "da3dde8815b240c6a8775836b0a37f1d",
              "version_minor": 0,
              "version_major": 2
            },
            "text/plain": [
              "Downloading:   0%|          | 0.00/2.09G [00:00<?, ?B/s]"
            ]
          },
          "metadata": {}
        },
        {
          "output_type": "stream",
          "name": "stderr",
          "text": [
            "Some layers from the model checkpoint at joeddav/xlm-roberta-large-xnli were not used when initializing TFXLMRobertaModel: ['classifier']\n",
            "- This IS expected if you are initializing TFXLMRobertaModel from the checkpoint of a model trained on another task or with another architecture (e.g. initializing a BertForSequenceClassification model from a BertForPreTraining model).\n",
            "- This IS NOT expected if you are initializing TFXLMRobertaModel from the checkpoint of a model that you expect to be exactly identical (initializing a BertForSequenceClassification model from a BertForSequenceClassification model).\n",
            "All the layers of TFXLMRobertaModel were initialized from the model checkpoint at joeddav/xlm-roberta-large-xnli.\n",
            "If your task is similar to the task the model of the checkpoint was trained on, you can already use TFXLMRobertaModel for predictions without further training.\n"
          ]
        },
        {
          "output_type": "stream",
          "name": "stdout",
          "text": [
            "Model: \"model\"\n",
            "__________________________________________________________________________________________________\n",
            "Layer (type)                    Output Shape         Param #     Connected to                     \n",
            "==================================================================================================\n",
            "input_word_ids (InputLayer)     [(None, 100)]        0                                            \n",
            "__________________________________________________________________________________________________\n",
            "input_mask (InputLayer)         [(None, 100)]        0                                            \n",
            "__________________________________________________________________________________________________\n",
            "tfxlm_roberta_model (TFXLMRober TFBaseModelOutputWit 559890432   input_word_ids[0][0]             \n",
            "                                                                 input_mask[0][0]                 \n",
            "__________________________________________________________________________________________________\n",
            "global_average_pooling1d (Globa (None, 1024)         0           tfxlm_roberta_model[0][0]        \n",
            "__________________________________________________________________________________________________\n",
            "dense (Dense)                   (None, 3)            3075        global_average_pooling1d[0][0]   \n",
            "==================================================================================================\n",
            "Total params: 559,893,507\n",
            "Trainable params: 559,893,507\n",
            "Non-trainable params: 0\n",
            "__________________________________________________________________________________________________\n"
          ]
        }
      ]
    },
    {
      "cell_type": "code",
      "metadata": {
        "id": "qLKNZzRC-oAG"
      },
      "source": [
        "data_train = pd.read_csv('/content/drive/MyDrive/VLSP/data_10_fold/train_df_fold_0.csv')\n",
        "data_valid = pd.read_csv('/content/drive/MyDrive/VLSP/data_10_fold/val_df_fold_0.csv')"
      ],
      "id": "qLKNZzRC-oAG",
      "execution_count": 7,
      "outputs": []
    },
    {
      "cell_type": "code",
      "metadata": {
        "colab": {
          "base_uri": "https://localhost:8080/"
        },
        "id": "UGuLf5ixJcGn",
        "outputId": "f17a64f9-06b8-4508-8070-a27398d6571a"
      },
      "source": [
        "data_valid[\"label\"].value_counts()"
      ],
      "id": "UGuLf5ixJcGn",
      "execution_count": 8,
      "outputs": [
        {
          "output_type": "execute_result",
          "data": {
            "text/plain": [
              "0    544\n",
              "1    542\n",
              "2    532\n",
              "Name: label, dtype: int64"
            ]
          },
          "metadata": {},
          "execution_count": 8
        }
      ]
    },
    {
      "cell_type": "code",
      "metadata": {
        "colab": {
          "base_uri": "https://localhost:8080/"
        },
        "id": "wlpoa0zAO4wo",
        "outputId": "6eb8799d-52d4-4e13-f938-37792eb2431f"
      },
      "source": [
        "from sklearn.model_selection import KFold\n",
        "import os\n",
        "acc_per_fold = []\n",
        "loss_per_fold = []\n",
        "fold_no = 1\n",
        "\n",
        "# for i in range(1): \n",
        "  # model = create_model()\n",
        "  # data_train = train_df_list[1]\n",
        "  # data_valid = val_df_list[1]\n",
        "i=0\n",
        "# checkpoint_path =\"/content/drive/MyDrive/VLSP/weight_10_fold/flod\"+str(i)+\"-{epoch:04d}.ckpt\"\n",
        "# checkpoint_dir = os.path.dirname(checkpoint_path[i])\n",
        "\n",
        "train_enc=tokenizer.batch_encode_plus(data_train[['sentence_1','sentence_2']].values.tolist(),padding='max_length',max_length=100,truncation=True,return_attention_mask=True)\n",
        "train_tf1=tf.convert_to_tensor(train_enc['input_ids'],dtype=tf.int32)\n",
        "train_tf2=tf.convert_to_tensor(train_enc['attention_mask'],dtype=tf.int32)\n",
        "train_input={'input_word_ids':train_tf1,'input_mask':train_tf2}\n",
        "test_enc=tokenizer.batch_encode_plus(data_valid[['sentence_1','sentence_2']].values.tolist(),padding='max_length',max_length=100,truncation=True,return_attention_mask=True)\n",
        "test_tf1=tf.convert_to_tensor(test_enc['input_ids'],dtype=tf.int32)\n",
        "test_tf2=tf.convert_to_tensor(test_enc['attention_mask'],dtype=tf.int32)\n",
        "test_input={'input_word_ids':test_tf1,'input_mask':test_tf2}\n",
        "\n",
        "#test\n",
        "  # danhgia_enc=tokenizer.batch_encode_plus(test[['sentence_1','sentence_2']].values.tolist(),padding='max_length',max_length=100,truncation=True,return_attention_mask=True)\n",
        "  # danhgia_tf1=tf.convert_to_tensor(danhgia_enc['input_ids'],dtype=tf.int32)\n",
        "  # danhgia_tf2=tf.convert_to_tensor(danhgia_enc['attention_mask'],dtype=tf.int32)\n",
        "  # danhgia_input={'input_word_ids':danhgia_tf1,'input_mask':danhgia_tf2}\n",
        "\n",
        "    \n",
        "  # Generate a print\n",
        "print(f'Training for fold {i} ...')\n",
        "print('------------------------------------------------------------------------')\n",
        "# early_stop = tf.keras.callbacks.EarlyStopping(patience=2,restore_best_weights=True)\n",
        "# cp_callback = tf.keras.callbacks.ModelCheckpoint(filepath=checkpoint_path,\n",
        "#                                                  save_weights_only=True,\n",
        "#                                                  verbose=1)\n",
        "              \n",
        "history = model.fit(train_input,np.asarray(data_train.label).astype(np.int32),\n",
        "                    epochs=3,\n",
        "              validation_data=(test_input, np.asarray(data_valid.label).astype(np.int32)),\n",
        "              batch_size=16*strategy.num_replicas_in_sync,\n",
        "              # callbacks=[cp_callback,early_stop],\n",
        "              verbose=1)\n",
        "\n",
        "    # Generate generalization metrics\n",
        "scores = model.evaluate(test_input,np.asarray(data_valid.label).astype(np.int32), verbose=1)\n",
        "print(f'Score for fold {i}: {model.metrics_names[0]} of {scores[0]}; {model.metrics_names[1]} of {scores[1]*100}%')\n",
        "acc_per_fold.append(scores[1] * 100)\n",
        "loss_per_fold.append(scores[0])\n",
        "data_train=[]\n",
        "data_valid=[]\n",
        "# i+=1\n",
        "# == Provide average scores ==\n",
        "print('------------------------------------------------------------------------')\n",
        "print('Score per fold')\n",
        "for i in range(0, len(acc_per_fold)):\n",
        "  print('------------------------------------------------------------------------')\n",
        "  print(f'> Fold {i+1} - Loss: {loss_per_fold[i]} - Accuracy: {acc_per_fold[i]}%')\n",
        "print('------------------------------------------------------------------------')\n",
        "print('Average scores for all folds:')\n",
        "print(f'> Accuracy: {np.mean(acc_per_fold)} (+- {np.std(acc_per_fold)})')\n",
        "print(f'> Loss: {np.mean(loss_per_fold)}')\n",
        "print('------------------------------------------------------------------------')\n"
      ],
      "id": "wlpoa0zAO4wo",
      "execution_count": 10,
      "outputs": [
        {
          "output_type": "stream",
          "name": "stdout",
          "text": [
            "Training for fold 0 ...\n",
            "------------------------------------------------------------------------\n",
            "Epoch 1/3\n",
            "WARNING:tensorflow:Gradients do not exist for variables ['tfxlm_roberta_model/roberta/pooler/dense/kernel:0', 'tfxlm_roberta_model/roberta/pooler/dense/bias:0'] when minimizing the loss.\n",
            "WARNING:tensorflow:Gradients do not exist for variables ['tfxlm_roberta_model/roberta/pooler/dense/kernel:0', 'tfxlm_roberta_model/roberta/pooler/dense/bias:0'] when minimizing the loss.\n",
            "910/910 [==============================] - 662s 698ms/step - loss: 0.2921 - accuracy: 0.9012 - val_loss: 0.1793 - val_accuracy: 0.9376\n",
            "Epoch 2/3\n",
            "910/910 [==============================] - 630s 692ms/step - loss: 0.1456 - accuracy: 0.9529 - val_loss: 0.1494 - val_accuracy: 0.9493\n",
            "Epoch 3/3\n",
            "910/910 [==============================] - 630s 692ms/step - loss: 0.0798 - accuracy: 0.9747 - val_loss: 0.1513 - val_accuracy: 0.9561\n",
            "51/51 [==============================] - 20s 392ms/step - loss: 0.1513 - accuracy: 0.9561\n",
            "Score for fold 0: loss of 0.15130159258842468; accuracy of 95.6118643283844%\n",
            "------------------------------------------------------------------------\n",
            "Score per fold\n",
            "------------------------------------------------------------------------\n",
            "> Fold 1 - Loss: 0.15130159258842468 - Accuracy: 95.6118643283844%\n",
            "------------------------------------------------------------------------\n",
            "Average scores for all folds:\n",
            "> Accuracy: 95.6118643283844 (+- 0.0)\n",
            "> Loss: 0.15130159258842468\n",
            "------------------------------------------------------------------------\n"
          ]
        }
      ]
    },
    {
      "cell_type": "markdown",
      "metadata": {
        "id": "lRwpHaAs_CoK"
      },
      "source": [
        "#predict_1_fold\n"
      ],
      "id": "lRwpHaAs_CoK"
    },
    {
      "cell_type": "code",
      "metadata": {
        "id": "M1MzKPL4JEkq"
      },
      "source": [
        "y=model.predict(test_input)"
      ],
      "id": "M1MzKPL4JEkq",
      "execution_count": null,
      "outputs": []
    },
    {
      "cell_type": "code",
      "metadata": {
        "id": "-8gewwDVxW2p"
      },
      "source": [
        "l = [np.argmax(y[i]) for i in range(len(y))]"
      ],
      "id": "-8gewwDVxW2p",
      "execution_count": null,
      "outputs": []
    },
    {
      "cell_type": "code",
      "metadata": {
        "id": "yupM7bCjLkLw"
      },
      "source": [
        "val[\"gold_label\"]=l"
      ],
      "id": "yupM7bCjLkLw",
      "execution_count": null,
      "outputs": []
    },
    {
      "cell_type": "code",
      "metadata": {
        "colab": {
          "base_uri": "https://localhost:8080/",
          "height": 419
        },
        "id": "S_IUC63AYC0O",
        "outputId": "cbeeec40-9290-4a17-cc99-b353302aa4e9"
      },
      "source": [
        "val"
      ],
      "id": "S_IUC63AYC0O",
      "execution_count": null,
      "outputs": [
        {
          "output_type": "execute_result",
          "data": {
            "text/html": [
              "<div>\n",
              "<style scoped>\n",
              "    .dataframe tbody tr th:only-of-type {\n",
              "        vertical-align: middle;\n",
              "    }\n",
              "\n",
              "    .dataframe tbody tr th {\n",
              "        vertical-align: top;\n",
              "    }\n",
              "\n",
              "    .dataframe thead th {\n",
              "        text-align: right;\n",
              "    }\n",
              "</style>\n",
              "<table border=\"1\" class=\"dataframe\">\n",
              "  <thead>\n",
              "    <tr style=\"text-align: right;\">\n",
              "      <th></th>\n",
              "      <th>Unnamed: 0</th>\n",
              "      <th>Unnamed: 0.1</th>\n",
              "      <th>id</th>\n",
              "      <th>lang_1</th>\n",
              "      <th>lang_2</th>\n",
              "      <th>sentence_1</th>\n",
              "      <th>sentence_2</th>\n",
              "      <th>label</th>\n",
              "      <th>gold_label</th>\n",
              "    </tr>\n",
              "  </thead>\n",
              "  <tbody>\n",
              "    <tr>\n",
              "      <th>0</th>\n",
              "      <td>12452</td>\n",
              "      <td>12467</td>\n",
              "      <td>train_12467</td>\n",
              "      <td>en</td>\n",
              "      <td>vi</td>\n",
              "      <td>As coronavirus cases continue to fluctuate in ...</td>\n",
              "      <td>Nhiều nước trên thế giới đã bắt đầu nghiên cứu...</td>\n",
              "      <td>1</td>\n",
              "      <td>1</td>\n",
              "    </tr>\n",
              "    <tr>\n",
              "      <th>1</th>\n",
              "      <td>11811</td>\n",
              "      <td>11826</td>\n",
              "      <td>train_11826</td>\n",
              "      <td>vi</td>\n",
              "      <td>vi</td>\n",
              "      <td>Vào thứ Tư vừa qua, các nhà lập pháp của bang ...</td>\n",
              "      <td>Các nhà lập pháp ở Nam Carolina đã yêu cầu côn...</td>\n",
              "      <td>1</td>\n",
              "      <td>1</td>\n",
              "    </tr>\n",
              "    <tr>\n",
              "      <th>2</th>\n",
              "      <td>11227</td>\n",
              "      <td>11242</td>\n",
              "      <td>train_11242</td>\n",
              "      <td>en</td>\n",
              "      <td>vi</td>\n",
              "      <td>There is growing concern across Arizona as inf...</td>\n",
              "      <td>Nhiều người tại Arizona đã phải nhập viện do v...</td>\n",
              "      <td>1</td>\n",
              "      <td>1</td>\n",
              "    </tr>\n",
              "    <tr>\n",
              "      <th>3</th>\n",
              "      <td>3197</td>\n",
              "      <td>3201</td>\n",
              "      <td>train_3201</td>\n",
              "      <td>vi</td>\n",
              "      <td>vi</td>\n",
              "      <td>Việt Nam cho biết chủng coronavirus mới là ngu...</td>\n",
              "      <td>Việt Nam cho rằng, chủng coronavirus mới với k...</td>\n",
              "      <td>0</td>\n",
              "      <td>0</td>\n",
              "    </tr>\n",
              "    <tr>\n",
              "      <th>4</th>\n",
              "      <td>12427</td>\n",
              "      <td>12442</td>\n",
              "      <td>train_12442</td>\n",
              "      <td>en</td>\n",
              "      <td>vi</td>\n",
              "      <td>A new study from South Korea has found that pe...</td>\n",
              "      <td>Một báo cáo mới của Reuters cho thấy một nghiê...</td>\n",
              "      <td>0</td>\n",
              "      <td>0</td>\n",
              "    </tr>\n",
              "    <tr>\n",
              "      <th>...</th>\n",
              "      <td>...</td>\n",
              "      <td>...</td>\n",
              "      <td>...</td>\n",
              "      <td>...</td>\n",
              "      <td>...</td>\n",
              "      <td>...</td>\n",
              "      <td>...</td>\n",
              "      <td>...</td>\n",
              "      <td>...</td>\n",
              "    </tr>\n",
              "    <tr>\n",
              "      <th>1613</th>\n",
              "      <td>7877</td>\n",
              "      <td>7887</td>\n",
              "      <td>train_7887</td>\n",
              "      <td>vi</td>\n",
              "      <td>vi</td>\n",
              "      <td>David Israel được chẩn đoán mắc bệnh ung thư h...</td>\n",
              "      <td>Năm 2015 David Israel nhận kết quả xét nghiệm ...</td>\n",
              "      <td>0</td>\n",
              "      <td>0</td>\n",
              "    </tr>\n",
              "    <tr>\n",
              "      <th>1614</th>\n",
              "      <td>15846</td>\n",
              "      <td>15870</td>\n",
              "      <td>train_15870</td>\n",
              "      <td>en</td>\n",
              "      <td>vi</td>\n",
              "      <td>The toxin believed to have poisoned Russian op...</td>\n",
              "      <td>Alexei Navalny từng là thành viên Hội đồng điề...</td>\n",
              "      <td>1</td>\n",
              "      <td>1</td>\n",
              "    </tr>\n",
              "    <tr>\n",
              "      <th>1615</th>\n",
              "      <td>705</td>\n",
              "      <td>706</td>\n",
              "      <td>train_706</td>\n",
              "      <td>en</td>\n",
              "      <td>vi</td>\n",
              "      <td>Though a University of Virginia model now proj...</td>\n",
              "      <td>Khi Đại học Virginia có thể đoán trước được ca...</td>\n",
              "      <td>2</td>\n",
              "      <td>2</td>\n",
              "    </tr>\n",
              "    <tr>\n",
              "      <th>1616</th>\n",
              "      <td>5874</td>\n",
              "      <td>5881</td>\n",
              "      <td>train_5881</td>\n",
              "      <td>vi</td>\n",
              "      <td>vi</td>\n",
              "      <td>Khi nhà đồng hồ học người Pháp Abraham-Louis B...</td>\n",
              "      <td>Nhà đồng hồ học người Pháp Abraham-Louis Bregu...</td>\n",
              "      <td>0</td>\n",
              "      <td>0</td>\n",
              "    </tr>\n",
              "    <tr>\n",
              "      <th>1617</th>\n",
              "      <td>10799</td>\n",
              "      <td>10812</td>\n",
              "      <td>train_10812</td>\n",
              "      <td>en</td>\n",
              "      <td>vi</td>\n",
              "      <td>A pandemic expert told FOX23 that Oklahoma’s r...</td>\n",
              "      <td>Một số người cho rằng COVID-19 sẽ tiếp tục bùn...</td>\n",
              "      <td>1</td>\n",
              "      <td>1</td>\n",
              "    </tr>\n",
              "  </tbody>\n",
              "</table>\n",
              "<p>1618 rows × 9 columns</p>\n",
              "</div>"
            ],
            "text/plain": [
              "      Unnamed: 0  Unnamed: 0.1  ... label gold_label\n",
              "0          12452         12467  ...     1          1\n",
              "1          11811         11826  ...     1          1\n",
              "2          11227         11242  ...     1          1\n",
              "3           3197          3201  ...     0          0\n",
              "4          12427         12442  ...     0          0\n",
              "...          ...           ...  ...   ...        ...\n",
              "1613        7877          7887  ...     0          0\n",
              "1614       15846         15870  ...     1          1\n",
              "1615         705           706  ...     2          2\n",
              "1616        5874          5881  ...     0          0\n",
              "1617       10799         10812  ...     1          1\n",
              "\n",
              "[1618 rows x 9 columns]"
            ]
          },
          "metadata": {},
          "execution_count": 15
        }
      ]
    },
    {
      "cell_type": "code",
      "metadata": {
        "colab": {
          "base_uri": "https://localhost:8080/"
        },
        "id": "Xe5RzI1TBUcF",
        "outputId": "e1ff40df-13aa-4de4-9716-f097009f13cc"
      },
      "source": [
        "val[\"label\"].value_counts()"
      ],
      "id": "Xe5RzI1TBUcF",
      "execution_count": null,
      "outputs": [
        {
          "output_type": "execute_result",
          "data": {
            "text/plain": [
              "1    560\n",
              "2    534\n",
              "0    524\n",
              "Name: label, dtype: int64"
            ]
          },
          "metadata": {},
          "execution_count": 17
        }
      ]
    },
    {
      "cell_type": "code",
      "metadata": {
        "id": "VPBJlUCpbIYI"
      },
      "source": [
        "df=val"
      ],
      "id": "VPBJlUCpbIYI",
      "execution_count": null,
      "outputs": []
    },
    {
      "cell_type": "code",
      "metadata": {
        "id": "zigMp7VtYctt"
      },
      "source": [
        "df =df.reset_index(drop=True)"
      ],
      "id": "zigMp7VtYctt",
      "execution_count": null,
      "outputs": []
    },
    {
      "cell_type": "code",
      "metadata": {
        "colab": {
          "base_uri": "https://localhost:8080/",
          "height": 419
        },
        "id": "jkzwdyKXyQTL",
        "outputId": "683b2e8e-ccbc-4fbd-ea0e-1899b633153a"
      },
      "source": [
        "df"
      ],
      "id": "jkzwdyKXyQTL",
      "execution_count": null,
      "outputs": [
        {
          "output_type": "execute_result",
          "data": {
            "text/html": [
              "<div>\n",
              "<style scoped>\n",
              "    .dataframe tbody tr th:only-of-type {\n",
              "        vertical-align: middle;\n",
              "    }\n",
              "\n",
              "    .dataframe tbody tr th {\n",
              "        vertical-align: top;\n",
              "    }\n",
              "\n",
              "    .dataframe thead th {\n",
              "        text-align: right;\n",
              "    }\n",
              "</style>\n",
              "<table border=\"1\" class=\"dataframe\">\n",
              "  <thead>\n",
              "    <tr style=\"text-align: right;\">\n",
              "      <th></th>\n",
              "      <th>Unnamed: 0</th>\n",
              "      <th>Unnamed: 0.1</th>\n",
              "      <th>id</th>\n",
              "      <th>lang_1</th>\n",
              "      <th>lang_2</th>\n",
              "      <th>sentence_1</th>\n",
              "      <th>sentence_2</th>\n",
              "      <th>label</th>\n",
              "      <th>gold_label</th>\n",
              "    </tr>\n",
              "  </thead>\n",
              "  <tbody>\n",
              "    <tr>\n",
              "      <th>0</th>\n",
              "      <td>11235</td>\n",
              "      <td>11250</td>\n",
              "      <td>train_11250</td>\n",
              "      <td>vi</td>\n",
              "      <td>vi</td>\n",
              "      <td>Thống đốc bang Arizona Doug Ducey có thể giảm ...</td>\n",
              "      <td>Bệnh viện đang nỗ lực để thực hiện ca phẫu thu...</td>\n",
              "      <td>1</td>\n",
              "      <td>1</td>\n",
              "    </tr>\n",
              "    <tr>\n",
              "      <th>1</th>\n",
              "      <td>12501</td>\n",
              "      <td>12516</td>\n",
              "      <td>train_12516</td>\n",
              "      <td>en</td>\n",
              "      <td>vi</td>\n",
              "      <td>South Dakota is set to become the first state ...</td>\n",
              "      <td>Tính hiệu quả của hydroxychloroquine trong điề...</td>\n",
              "      <td>0</td>\n",
              "      <td>0</td>\n",
              "    </tr>\n",
              "    <tr>\n",
              "      <th>2</th>\n",
              "      <td>13911</td>\n",
              "      <td>13930</td>\n",
              "      <td>train_13930</td>\n",
              "      <td>vi</td>\n",
              "      <td>vi</td>\n",
              "      <td>Viêm gan B mãn tính cho tới nay vẫn chưa có ph...</td>\n",
              "      <td>Phương pháp điều trị chủ yếu cho bệnh viêm gan...</td>\n",
              "      <td>1</td>\n",
              "      <td>1</td>\n",
              "    </tr>\n",
              "    <tr>\n",
              "      <th>3</th>\n",
              "      <td>14134</td>\n",
              "      <td>14155</td>\n",
              "      <td>train_14155</td>\n",
              "      <td>vi</td>\n",
              "      <td>vi</td>\n",
              "      <td>Tiến sĩ Ashish Jha, Giám đốc Viện Y tế Toàn cầ...</td>\n",
              "      <td>Tiến sĩ Ashish Jha, Giám đốc Viện Y tế Toàn cầ...</td>\n",
              "      <td>1</td>\n",
              "      <td>1</td>\n",
              "    </tr>\n",
              "    <tr>\n",
              "      <th>4</th>\n",
              "      <td>5530</td>\n",
              "      <td>5537</td>\n",
              "      <td>train_5537</td>\n",
              "      <td>vi</td>\n",
              "      <td>vi</td>\n",
              "      <td>Dù phết lên bánh mì nướng, thêm vào cháo hay c...</td>\n",
              "      <td>Đa số mọi người đều sử dụng đường khi ăn bánh ...</td>\n",
              "      <td>2</td>\n",
              "      <td>2</td>\n",
              "    </tr>\n",
              "    <tr>\n",
              "      <th>...</th>\n",
              "      <td>...</td>\n",
              "      <td>...</td>\n",
              "      <td>...</td>\n",
              "      <td>...</td>\n",
              "      <td>...</td>\n",
              "      <td>...</td>\n",
              "      <td>...</td>\n",
              "      <td>...</td>\n",
              "      <td>...</td>\n",
              "    </tr>\n",
              "    <tr>\n",
              "      <th>1613</th>\n",
              "      <td>10148</td>\n",
              "      <td>10159</td>\n",
              "      <td>train_10159</td>\n",
              "      <td>en</td>\n",
              "      <td>vi</td>\n",
              "      <td>Gov. Mike Dunleavy held a press conference on ...</td>\n",
              "      <td>Một cuộc họp báo kêu gọi người dân duy trì việ...</td>\n",
              "      <td>0</td>\n",
              "      <td>0</td>\n",
              "    </tr>\n",
              "    <tr>\n",
              "      <th>1614</th>\n",
              "      <td>2046</td>\n",
              "      <td>2049</td>\n",
              "      <td>train_2049</td>\n",
              "      <td>en</td>\n",
              "      <td>vi</td>\n",
              "      <td>An election night that ended with no clear win...</td>\n",
              "      <td>Sự thật là các cử tri Mỹ đã mong muốn nới lỏng...</td>\n",
              "      <td>0</td>\n",
              "      <td>0</td>\n",
              "    </tr>\n",
              "    <tr>\n",
              "      <th>1615</th>\n",
              "      <td>2897</td>\n",
              "      <td>2901</td>\n",
              "      <td>train_2901</td>\n",
              "      <td>vi</td>\n",
              "      <td>vi</td>\n",
              "      <td>17 thượng nghị sĩ đảng Dân chủ đã gửi một lá t...</td>\n",
              "      <td>17 thành viên Thượng viện của đảng Dân chủ đã ...</td>\n",
              "      <td>2</td>\n",
              "      <td>2</td>\n",
              "    </tr>\n",
              "    <tr>\n",
              "      <th>1616</th>\n",
              "      <td>6744</td>\n",
              "      <td>6752</td>\n",
              "      <td>train_6752</td>\n",
              "      <td>en</td>\n",
              "      <td>vi</td>\n",
              "      <td>For the third day in a row, Illinois is report...</td>\n",
              "      <td>Bang Illinois phải tuyên bố tình trạng khẩn cấ...</td>\n",
              "      <td>1</td>\n",
              "      <td>1</td>\n",
              "    </tr>\n",
              "    <tr>\n",
              "      <th>1617</th>\n",
              "      <td>7891</td>\n",
              "      <td>7901</td>\n",
              "      <td>train_7901</td>\n",
              "      <td>vi</td>\n",
              "      <td>vi</td>\n",
              "      <td>Nhiều bệnh nhân đang ở trong các bệnh viện tại...</td>\n",
              "      <td>Trong thời kì đại dịch, đây là thời điểm các b...</td>\n",
              "      <td>2</td>\n",
              "      <td>2</td>\n",
              "    </tr>\n",
              "  </tbody>\n",
              "</table>\n",
              "<p>1618 rows × 9 columns</p>\n",
              "</div>"
            ],
            "text/plain": [
              "      Unnamed: 0  Unnamed: 0.1  ... label gold_label\n",
              "0          11235         11250  ...     1          1\n",
              "1          12501         12516  ...     0          0\n",
              "2          13911         13930  ...     1          1\n",
              "3          14134         14155  ...     1          1\n",
              "4           5530          5537  ...     2          2\n",
              "...          ...           ...  ...   ...        ...\n",
              "1613       10148         10159  ...     0          0\n",
              "1614        2046          2049  ...     0          0\n",
              "1615        2897          2901  ...     2          2\n",
              "1616        6744          6752  ...     1          1\n",
              "1617        7891          7901  ...     2          2\n",
              "\n",
              "[1618 rows x 9 columns]"
            ]
          },
          "metadata": {},
          "execution_count": 20
        }
      ]
    },
    {
      "cell_type": "code",
      "metadata": {
        "id": "C5o1MemxLt3F"
      },
      "source": [
        "df[\"gold_label\"]=df[\"gold_label\"].map({0: 'agree', 1: 'neutral', 2:'disagree' })"
      ],
      "id": "C5o1MemxLt3F",
      "execution_count": null,
      "outputs": []
    },
    {
      "cell_type": "code",
      "metadata": {
        "id": "ATVRosGHc0OC"
      },
      "source": [
        "df[\"label\"]=df[\"label\"].map({0: 'agree', 1: 'neutral', 2:'disagree' })"
      ],
      "id": "ATVRosGHc0OC",
      "execution_count": null,
      "outputs": []
    },
    {
      "cell_type": "code",
      "metadata": {
        "id": "mhrN4p0YL55Q"
      },
      "source": [
        "data=[]\n",
        "for i in range(len(df)):\n",
        "  data.append({\n",
        "      \"id\":df[\"id\"][i],\"gold_label\":df[\"gold_label\"][i]\n",
        "  })"
      ],
      "id": "mhrN4p0YL55Q",
      "execution_count": null,
      "outputs": []
    },
    {
      "cell_type": "code",
      "metadata": {
        "id": "YehLzTuXdwpd"
      },
      "source": [
        "data1=[]\n",
        "for i in range(len(df)):\n",
        "  data1.append({\n",
        "      \"id\":df[\"id\"][i],\"label\":df[\"label\"][i]\n",
        "  })"
      ],
      "id": "YehLzTuXdwpd",
      "execution_count": null,
      "outputs": []
    },
    {
      "cell_type": "code",
      "metadata": {
        "id": "fMqB0OOZMUXV",
        "colab": {
          "base_uri": "https://localhost:8080/"
        },
        "outputId": "b686cc60-a253-4a41-f388-67da94e95a48"
      },
      "source": [
        "import json\n",
        "with open ('gold_lbale_kflod2_3epoch.json', 'w') as outfile:\n",
        "\tjson.dump(data, outfile, indent=2)\n",
        "\tprint(\"File Dumped as testout.json\")"
      ],
      "id": "fMqB0OOZMUXV",
      "execution_count": null,
      "outputs": [
        {
          "output_type": "stream",
          "name": "stdout",
          "text": [
            "File Dumped as testout.json\n"
          ]
        }
      ]
    },
    {
      "cell_type": "code",
      "metadata": {
        "colab": {
          "base_uri": "https://localhost:8080/"
        },
        "id": "MMaDNRAKd2CD",
        "outputId": "3cd37de3-122e-48e2-b06f-51c37bf7a62b"
      },
      "source": [
        "with open ('pedict_lbale_kflod2_3epoch.json', 'w') as outfile:\n",
        "\tjson.dump(data1, outfile, indent=2)\n",
        "\tprint(\"File Dumped as testout.json\")"
      ],
      "id": "MMaDNRAKd2CD",
      "execution_count": null,
      "outputs": [
        {
          "output_type": "stream",
          "name": "stdout",
          "text": [
            "File Dumped as testout.json\n"
          ]
        }
      ]
    },
    {
      "cell_type": "code",
      "metadata": {
        "id": "Aotx8dD9PxXt",
        "colab": {
          "base_uri": "https://localhost:8080/"
        },
        "outputId": "cfa37fe4-9fbf-4d67-c7a6-b76fe1863d43"
      },
      "source": [
        "cd /content/drive/MyDrive/tinyeudau"
      ],
      "id": "Aotx8dD9PxXt",
      "execution_count": null,
      "outputs": [
        {
          "output_type": "stream",
          "name": "stdout",
          "text": [
            "/content/drive/MyDrive/tinyeudau\n"
          ]
        }
      ]
    },
    {
      "cell_type": "code",
      "metadata": {
        "id": "03SSoPEOzXYg"
      },
      "source": [
        "!cp pedict_lbale_kflod0.json /content"
      ],
      "id": "03SSoPEOzXYg",
      "execution_count": null,
      "outputs": []
    },
    {
      "cell_type": "code",
      "metadata": {
        "colab": {
          "base_uri": "https://localhost:8080/"
        },
        "id": "iAPW0aIGzylX",
        "outputId": "b5efc5e2-bd66-4dc3-c0b0-8f8b621df01e"
      },
      "source": [
        "cd /content"
      ],
      "id": "iAPW0aIGzylX",
      "execution_count": null,
      "outputs": [
        {
          "output_type": "stream",
          "name": "stdout",
          "text": [
            "/content\n"
          ]
        }
      ]
    },
    {
      "cell_type": "code",
      "metadata": {
        "colab": {
          "base_uri": "https://localhost:8080/",
          "height": 702
        },
        "id": "tGmXQuw0y2xR",
        "outputId": "4e184a93-5ecb-44e4-8778-53d478919305"
      },
      "source": [
        "import json\n",
        "from sklearn.metrics import classification_report\n",
        "from sklearn.metrics import confusion_matrix\n",
        "import seaborn as sns\n",
        "import matplotlib.pyplot as plt\n",
        "from sklearn.metrics import confusion_matrix\n",
        "\n",
        "\n",
        "def vlsp_nli_eval(gold_json_file, prediction_json_file):\n",
        "\n",
        "    gold_json = json.load(open(gold_json_file, 'rt', encoding='utf-8'))\n",
        "    prediction_json = json.load(\n",
        "        open(prediction_json_file, 'rt', encoding='utf-8'))\n",
        "\n",
        "    label_map = {'agree': 0, 'neutral': 1, 'disagree': 2}\n",
        "    print('Label map:', label_map)\n",
        "\n",
        "    print('Check data format: ', prediction_json_file)\n",
        "\n",
        "    check_format = True\n",
        "    for p in prediction_json:\n",
        "        if 'label' not in p or 'id' not in p or p['label'] not in label_map:\n",
        "            check_format = False\n",
        "            print('Invalid label (format) in entry:', p)\n",
        "            break\n",
        "\n",
        "    if not check_format:\n",
        "        print('Please correct the data format and try again')\n",
        "        return\n",
        "    else:\n",
        "        print('OK.')\n",
        "\n",
        "    print('Check data format: ', gold_json_file)\n",
        "    check_format = True\n",
        "    for p in gold_json:\n",
        "        if 'gold_label' not in p or 'id' not in p or p['gold_label'] not in label_map:\n",
        "            check_format = False\n",
        "            print('Invalid label (format) in entry:', p)\n",
        "            break\n",
        "\n",
        "    if not check_format:\n",
        "        print('Please correct the data format and try again')\n",
        "        return\n",
        "    else:\n",
        "        print('OK.')\n",
        "\n",
        "    print('Check data consistency: ')\n",
        "\n",
        "    gold_dict = {p['id']: p['gold_label'] for p in gold_json}\n",
        "    prediction_dict = {p['id']: p['label'] for p in prediction_json}\n",
        "\n",
        "    consistency_check = True\n",
        "\n",
        "    for key in gold_dict:\n",
        "        if key not in prediction_dict:\n",
        "            consistency_check = False\n",
        "            print('Id', key, 'is not in the prediction data')\n",
        "            break\n",
        "\n",
        "    for key in prediction_dict:\n",
        "        if key not in gold_dict:\n",
        "            consistency_check = False\n",
        "            print('Gold data does not contain id', key)\n",
        "            break\n",
        "\n",
        "    if not consistency_check:\n",
        "        print('Please correct the data and try again')\n",
        "        return\n",
        "    else:\n",
        "        print('OK.')\n",
        "\n",
        "    id_list = list(gold_dict.keys())\n",
        "\n",
        "    gold_labels = [label_map[gold_dict[idx]] for idx in id_list]\n",
        "\n",
        "    prediction_labels = [label_map[prediction_dict[idx]] for idx in id_list]\n",
        "    cm_cst_nb = confusion_matrix(gold_labels, prediction_labels)\n",
        "# cm_txc_nb\n",
        "\n",
        "    plt.figure(figsize=(17,12))\n",
        "# plt.suptitle('Confusion Matrix: XLM-R ', fontsize=20)\n",
        "\n",
        "    plt.subplot(2,2,1)\n",
        "    plt.title('Fold', fontsize=16)\n",
        "    df_cm_cst_nb = pd.DataFrame(cm_cst_nb)#, index=np.unique(cst_train), columns=np.unique(cst_test))\n",
        "    sns.heatmap(df_cm_cst_nb, annot=True, square=True, annot_kws={\"size\": 25}, fmt='2g', cmap='Blues')\n",
        "    # print(classification_report(y_label, pred, digits = 4))\n",
        "    \n",
        "    print('Evaluation result:\\n')\n",
        "    print(classification_report(gold_labels, prediction_labels))\n",
        "\n",
        "\n",
        "\n",
        "if __name__ == '__main__':\n",
        "    import sys\n",
        "\n",
        "    # print(sys.argv)\n",
        "\n",
        "    # if len(sys.argv) != 3:\n",
        "\n",
        "    #     print('--- The command to run the evaluation script ---')\n",
        "    #     print('   python vlsp_nli_eval.py [path_to_gold_file] [path_to_prediction_file]')\n",
        "    #     print('Example: \\n    python vlsp_nli_eval.py nli_gold.json nli_prediction.json')\n",
        "    \n",
        "    # else:\n",
        "    #     gold_file = sys.argv[1]\n",
        "    #     prediction_file = sys.argv[2]\n",
        "    # for j in range(10):\n",
        "    j=1\n",
        "    print(f'fold{str(j)}: ')\n",
        "    gold_file = f'/content/drive/MyDrive/tinyeudau/gold_lbale_kflod2_3epoch.json'\n",
        "    prediction_file = f'/content/drive/MyDrive/tinyeudau/pedict_lbale_kflod2_3epoch.json'\n",
        "    vlsp_nli_eval(gold_file,prediction_file)\n",
        "    # gold_file = '/content/gold_json_file.json'\n",
        "    # prediction_file = '/content/prediction_json_file.json'\n",
        "    # vlsp_nli_eval(gold_file, prediction_file)\n",
        "    \n"
      ],
      "id": "tGmXQuw0y2xR",
      "execution_count": null,
      "outputs": [
        {
          "output_type": "stream",
          "name": "stdout",
          "text": [
            "fold1: \n",
            "Label map: {'agree': 0, 'neutral': 1, 'disagree': 2}\n",
            "Check data format:  /content/drive/MyDrive/tinyeudau/pedict_lbale_kflod2_3epoch.json\n",
            "OK.\n",
            "Check data format:  /content/drive/MyDrive/tinyeudau/gold_lbale_kflod2_3epoch.json\n",
            "OK.\n",
            "Check data consistency: \n",
            "OK.\n",
            "Evaluation result:\n",
            "\n",
            "              precision    recall  f1-score   support\n",
            "\n",
            "           0       0.94      0.96      0.95       516\n",
            "           1       0.99      0.91      0.95       605\n",
            "           2       0.90      0.96      0.93       497\n",
            "\n",
            "    accuracy                           0.94      1618\n",
            "   macro avg       0.94      0.95      0.94      1618\n",
            "weighted avg       0.95      0.94      0.94      1618\n",
            "\n"
          ]
        },
        {
          "output_type": "display_data",
          "data": {
            "image/png": "[encoded data removed]",
            "text/plain": [
              "<Figure size 1224x864 with 2 Axes>"
            ]
          },
          "metadata": {
            "needs_background": "light"
          }
        }
      ]
    },
    {
      "cell_type": "code",
      "metadata": {
        "colab": {
          "base_uri": "https://localhost:8080/",
          "height": 708
        },
        "id": "-dB2dIeZNY0T",
        "outputId": "7cc71811-0297-4071-e000-aa1ccfa7adc4"
      },
      "source": [
        "df"
      ],
      "id": "-dB2dIeZNY0T",
      "execution_count": null,
      "outputs": [
        {
          "output_type": "execute_result",
          "data": {
            "text/html": [
              "<div>\n",
              "<style scoped>\n",
              "    .dataframe tbody tr th:only-of-type {\n",
              "        vertical-align: middle;\n",
              "    }\n",
              "\n",
              "    .dataframe tbody tr th {\n",
              "        vertical-align: top;\n",
              "    }\n",
              "\n",
              "    .dataframe thead th {\n",
              "        text-align: right;\n",
              "    }\n",
              "</style>\n",
              "<table border=\"1\" class=\"dataframe\">\n",
              "  <thead>\n",
              "    <tr style=\"text-align: right;\">\n",
              "      <th></th>\n",
              "      <th>Unnamed: 0</th>\n",
              "      <th>id</th>\n",
              "      <th>lang_1</th>\n",
              "      <th>lang_2</th>\n",
              "      <th>sentence_1</th>\n",
              "      <th>sentence_2</th>\n",
              "      <th>label</th>\n",
              "      <th>gold_label</th>\n",
              "      <th>gold_lable</th>\n",
              "    </tr>\n",
              "  </thead>\n",
              "  <tbody>\n",
              "    <tr>\n",
              "      <th>0</th>\n",
              "      <td>14912</td>\n",
              "      <td>train_14912</td>\n",
              "      <td>en</td>\n",
              "      <td>vi</td>\n",
              "      <td>Dejay Cartwright had visited more than 400 lig...</td>\n",
              "      <td>Dejay Cartwright chuẩn bị ghé thăm một ngọn hả...</td>\n",
              "      <td>0</td>\n",
              "      <td>agree</td>\n",
              "      <td>0</td>\n",
              "    </tr>\n",
              "    <tr>\n",
              "      <th>1</th>\n",
              "      <td>11896</td>\n",
              "      <td>train_11896</td>\n",
              "      <td>vi</td>\n",
              "      <td>vi</td>\n",
              "      <td>Một khách du lịch người Anh đang chiến đấu để ...</td>\n",
              "      <td>Một viên khách người Anh, sau khi đặt chân đến...</td>\n",
              "      <td>0</td>\n",
              "      <td>agree</td>\n",
              "      <td>0</td>\n",
              "    </tr>\n",
              "    <tr>\n",
              "      <th>2</th>\n",
              "      <td>13502</td>\n",
              "      <td>train_13502</td>\n",
              "      <td>en</td>\n",
              "      <td>vi</td>\n",
              "      <td>Gilead Sciences Inc. shares were whipsawed for...</td>\n",
              "      <td>Việc thất bại trong lần thử nghiệm điều chế th...</td>\n",
              "      <td>0</td>\n",
              "      <td>agree</td>\n",
              "      <td>0</td>\n",
              "    </tr>\n",
              "    <tr>\n",
              "      <th>3</th>\n",
              "      <td>8751</td>\n",
              "      <td>train_8751</td>\n",
              "      <td>en</td>\n",
              "      <td>vi</td>\n",
              "      <td>A young child died Wednesday from COVID-19 and...</td>\n",
              "      <td>Một đứa trẻ nhiễm COVID-19 kèm theo các hội ch...</td>\n",
              "      <td>2</td>\n",
              "      <td>disagree</td>\n",
              "      <td>2</td>\n",
              "    </tr>\n",
              "    <tr>\n",
              "      <th>4</th>\n",
              "      <td>6426</td>\n",
              "      <td>train_6426</td>\n",
              "      <td>en</td>\n",
              "      <td>vi</td>\n",
              "      <td>Scientists in Thailand reported what they say ...</td>\n",
              "      <td>Mức độ hiệu quả của vắc xin Sinovac trở thành ...</td>\n",
              "      <td>1</td>\n",
              "      <td>neutral</td>\n",
              "      <td>1</td>\n",
              "    </tr>\n",
              "    <tr>\n",
              "      <th>...</th>\n",
              "      <td>...</td>\n",
              "      <td>...</td>\n",
              "      <td>...</td>\n",
              "      <td>...</td>\n",
              "      <td>...</td>\n",
              "      <td>...</td>\n",
              "      <td>...</td>\n",
              "      <td>...</td>\n",
              "      <td>...</td>\n",
              "    </tr>\n",
              "    <tr>\n",
              "      <th>1613</th>\n",
              "      <td>8354</td>\n",
              "      <td>train_8354</td>\n",
              "      <td>en</td>\n",
              "      <td>vi</td>\n",
              "      <td>Sunday marked the beginning of a breakthrough ...</td>\n",
              "      <td>Chủ nhật đã đánh dấu một mốc sự kiện quan trọn...</td>\n",
              "      <td>0</td>\n",
              "      <td>agree</td>\n",
              "      <td>0</td>\n",
              "    </tr>\n",
              "    <tr>\n",
              "      <th>1614</th>\n",
              "      <td>798</td>\n",
              "      <td>train_798</td>\n",
              "      <td>vi</td>\n",
              "      <td>vi</td>\n",
              "      <td>Trong bối cảnh căng thẳng ngày càng gia tăng g...</td>\n",
              "      <td>Đã xảy ra cãi vã giữa người đứng đầu Nhà Trắng...</td>\n",
              "      <td>1</td>\n",
              "      <td>neutral</td>\n",
              "      <td>1</td>\n",
              "    </tr>\n",
              "    <tr>\n",
              "      <th>1615</th>\n",
              "      <td>9904</td>\n",
              "      <td>train_9904</td>\n",
              "      <td>en</td>\n",
              "      <td>vi</td>\n",
              "      <td>The Maine Center for Disease Control and Preve...</td>\n",
              "      <td>Chưa có thêm trường hợp nhiễm virus corona nào...</td>\n",
              "      <td>2</td>\n",
              "      <td>disagree</td>\n",
              "      <td>2</td>\n",
              "    </tr>\n",
              "    <tr>\n",
              "      <th>1616</th>\n",
              "      <td>14040</td>\n",
              "      <td>train_14040</td>\n",
              "      <td>en</td>\n",
              "      <td>vi</td>\n",
              "      <td>For weeks, frontline nurse Sette Buenaventura ...</td>\n",
              "      <td>Trong tình cảnh virus corona đang lây lan mạnh...</td>\n",
              "      <td>2</td>\n",
              "      <td>disagree</td>\n",
              "      <td>2</td>\n",
              "    </tr>\n",
              "    <tr>\n",
              "      <th>1617</th>\n",
              "      <td>4864</td>\n",
              "      <td>train_4864</td>\n",
              "      <td>en</td>\n",
              "      <td>vi</td>\n",
              "      <td>Dallas County reported 400 more confirmed coro...</td>\n",
              "      <td>Quận Dallas ghi nhận thêm 400 ca nhiễm COVID-1...</td>\n",
              "      <td>0</td>\n",
              "      <td>agree</td>\n",
              "      <td>0</td>\n",
              "    </tr>\n",
              "  </tbody>\n",
              "</table>\n",
              "<p>1618 rows × 9 columns</p>\n",
              "</div>"
            ],
            "text/plain": [
              "      Unnamed: 0           id lang_1  ... label gold_label gold_lable\n",
              "0          14912  train_14912     en  ...     0      agree          0\n",
              "1          11896  train_11896     vi  ...     0      agree          0\n",
              "2          13502  train_13502     en  ...     0      agree          0\n",
              "3           8751   train_8751     en  ...     2   disagree          2\n",
              "4           6426   train_6426     en  ...     1    neutral          1\n",
              "...          ...          ...    ...  ...   ...        ...        ...\n",
              "1613        8354   train_8354     en  ...     0      agree          0\n",
              "1614         798    train_798     vi  ...     1    neutral          1\n",
              "1615        9904   train_9904     en  ...     2   disagree          2\n",
              "1616       14040  train_14040     en  ...     2   disagree          2\n",
              "1617        4864   train_4864     en  ...     0      agree          0\n",
              "\n",
              "[1618 rows x 9 columns]"
            ]
          },
          "metadata": {},
          "execution_count": 67
        }
      ]
    },
    {
      "cell_type": "code",
      "metadata": {
        "id": "BJnIe0WLr4__",
        "colab": {
          "base_uri": "https://localhost:8080/"
        },
        "outputId": "ae5158a3-a191-4ed4-e446-165dafdf2be7"
      },
      "source": [
        "l.shape"
      ],
      "id": "BJnIe0WLr4__",
      "execution_count": null,
      "outputs": [
        {
          "output_type": "execute_result",
          "data": {
            "text/plain": [
              "(334,)"
            ]
          },
          "metadata": {},
          "execution_count": 40
        }
      ]
    },
    {
      "cell_type": "code",
      "metadata": {
        "colab": {
          "base_uri": "https://localhost:8080/"
        },
        "id": "UyYqQtecpm3Y",
        "outputId": "ab9756cf-7792-451a-eec2-989630f7a787"
      },
      "source": [
        "for i in range(len(train)):\n",
        "  if train[\"label\"][i]==\"neutral\":\n",
        "     train[\"label\"][i]=1\n",
        "  if train[\"label\"][i]==\"agree\":\n",
        "     train[\"label\"][i]=0\n",
        "  if train[\"label\"][i]==\"disagree\":\n",
        "     train[\"label\"][i]=2\n"
      ],
      "id": "UyYqQtecpm3Y",
      "execution_count": null,
      "outputs": [
        {
          "output_type": "stream",
          "name": "stderr",
          "text": [
            "/usr/local/lib/python3.7/dist-packages/ipykernel_launcher.py:3: SettingWithCopyWarning: \n",
            "A value is trying to be set on a copy of a slice from a DataFrame\n",
            "\n",
            "See the caveats in the documentation: https://pandas.pydata.org/pandas-docs/stable/user_guide/indexing.html#returning-a-view-versus-a-copy\n",
            "  This is separate from the ipykernel package so we can avoid doing imports until\n",
            "/usr/local/lib/python3.7/dist-packages/ipykernel_launcher.py:5: SettingWithCopyWarning: \n",
            "A value is trying to be set on a copy of a slice from a DataFrame\n",
            "\n",
            "See the caveats in the documentation: https://pandas.pydata.org/pandas-docs/stable/user_guide/indexing.html#returning-a-view-versus-a-copy\n",
            "  \"\"\"\n",
            "/usr/local/lib/python3.7/dist-packages/ipykernel_launcher.py:7: SettingWithCopyWarning: \n",
            "A value is trying to be set on a copy of a slice from a DataFrame\n",
            "\n",
            "See the caveats in the documentation: https://pandas.pydata.org/pandas-docs/stable/user_guide/indexing.html#returning-a-view-versus-a-copy\n",
            "  import sys\n"
          ]
        }
      ]
    },
    {
      "cell_type": "code",
      "metadata": {
        "colab": {
          "base_uri": "https://localhost:8080/",
          "height": 606
        },
        "id": "uqNK-Il_qKeq",
        "outputId": "34ef61b1-19c1-488e-f31d-ce24f57c905b"
      },
      "source": [
        "train"
      ],
      "id": "uqNK-Il_qKeq",
      "execution_count": null,
      "outputs": [
        {
          "output_type": "execute_result",
          "data": {
            "text/html": [
              "<div>\n",
              "<style scoped>\n",
              "    .dataframe tbody tr th:only-of-type {\n",
              "        vertical-align: middle;\n",
              "    }\n",
              "\n",
              "    .dataframe tbody tr th {\n",
              "        vertical-align: top;\n",
              "    }\n",
              "\n",
              "    .dataframe thead th {\n",
              "        text-align: right;\n",
              "    }\n",
              "</style>\n",
              "<table border=\"1\" class=\"dataframe\">\n",
              "  <thead>\n",
              "    <tr style=\"text-align: right;\">\n",
              "      <th></th>\n",
              "      <th>Unnamed: 0</th>\n",
              "      <th>id</th>\n",
              "      <th>lang_1</th>\n",
              "      <th>lang_2</th>\n",
              "      <th>sentence_1</th>\n",
              "      <th>sentence_2</th>\n",
              "      <th>label</th>\n",
              "    </tr>\n",
              "  </thead>\n",
              "  <tbody>\n",
              "    <tr>\n",
              "      <th>0</th>\n",
              "      <td>0</td>\n",
              "      <td>train_0</td>\n",
              "      <td>en</td>\n",
              "      <td>vi</td>\n",
              "      <td>Some Maine congressional leaders are pushing t...</td>\n",
              "      <td>Một số lãnh đạo quốc hội Maine đang tiến hành ...</td>\n",
              "      <td>1</td>\n",
              "    </tr>\n",
              "    <tr>\n",
              "      <th>1</th>\n",
              "      <td>1</td>\n",
              "      <td>train_1</td>\n",
              "      <td>vi</td>\n",
              "      <td>vi</td>\n",
              "      <td>Tờ báo Dispatch đã bày tỏ sự ủng hộ mạnh mẽ đố...</td>\n",
              "      <td>Thống đốc thứ 70 của bang Ohio - Mike DeWine l...</td>\n",
              "      <td>1</td>\n",
              "    </tr>\n",
              "    <tr>\n",
              "      <th>2</th>\n",
              "      <td>2</td>\n",
              "      <td>train_2</td>\n",
              "      <td>en</td>\n",
              "      <td>vi</td>\n",
              "      <td>Dr. Roberto Colon, the associate chief medical...</td>\n",
              "      <td>Sau khi ghi nhận ca tử vong do virus corona đầ...</td>\n",
              "      <td>1</td>\n",
              "    </tr>\n",
              "    <tr>\n",
              "      <th>3</th>\n",
              "      <td>3</td>\n",
              "      <td>train_3</td>\n",
              "      <td>en</td>\n",
              "      <td>vi</td>\n",
              "      <td>Austin Regional Clinic is looking for 250 volu...</td>\n",
              "      <td>Các cuộc thử nghiệm vắc-xin ngừa virus corona ...</td>\n",
              "      <td>0</td>\n",
              "    </tr>\n",
              "    <tr>\n",
              "      <th>4</th>\n",
              "      <td>4</td>\n",
              "      <td>train_4</td>\n",
              "      <td>vi</td>\n",
              "      <td>vi</td>\n",
              "      <td>Khi số ca nhiễm virus corona mới tăng trên khắ...</td>\n",
              "      <td>Indiana hiện đang rất nỗ lực để chiến đấu với ...</td>\n",
              "      <td>1</td>\n",
              "    </tr>\n",
              "    <tr>\n",
              "      <th>...</th>\n",
              "      <td>...</td>\n",
              "      <td>...</td>\n",
              "      <td>...</td>\n",
              "      <td>...</td>\n",
              "      <td>...</td>\n",
              "      <td>...</td>\n",
              "      <td>...</td>\n",
              "    </tr>\n",
              "    <tr>\n",
              "      <th>995</th>\n",
              "      <td>997</td>\n",
              "      <td>train_997</td>\n",
              "      <td>en</td>\n",
              "      <td>vi</td>\n",
              "      <td>Idaho will not receive as many doses of the Pf...</td>\n",
              "      <td>Một số nhân viên Sở Y tế Idaho sẽ được tiêm vắ...</td>\n",
              "      <td>1</td>\n",
              "    </tr>\n",
              "    <tr>\n",
              "      <th>996</th>\n",
              "      <td>998</td>\n",
              "      <td>train_998</td>\n",
              "      <td>en</td>\n",
              "      <td>vi</td>\n",
              "      <td>With a record 10,002 coronavirus patients in T...</td>\n",
              "      <td>Thống đốc bang Texas (Mỹ) Greg Abbott gọi cuộc...</td>\n",
              "      <td>1</td>\n",
              "    </tr>\n",
              "    <tr>\n",
              "      <th>997</th>\n",
              "      <td>999</td>\n",
              "      <td>train_999</td>\n",
              "      <td>en</td>\n",
              "      <td>vi</td>\n",
              "      <td>The Florida Department of Health reported 1,41...</td>\n",
              "      <td>Tình hình dịch bệnh tại Mỹ đang chuyển biến xấ...</td>\n",
              "      <td>1</td>\n",
              "    </tr>\n",
              "    <tr>\n",
              "      <th>998</th>\n",
              "      <td>1000</td>\n",
              "      <td>train_1000</td>\n",
              "      <td>vi</td>\n",
              "      <td>vi</td>\n",
              "      <td>Một nhân viên quản lý chuyên ngành trước của O...</td>\n",
              "      <td>Sau một thời gian chiến đấu với COVID-19, một ...</td>\n",
              "      <td>0</td>\n",
              "    </tr>\n",
              "    <tr>\n",
              "      <th>999</th>\n",
              "      <td>1001</td>\n",
              "      <td>train_1001</td>\n",
              "      <td>vi</td>\n",
              "      <td>vi</td>\n",
              "      <td>Bị vết mò đốt nhỏ trên cơ thể, người đàn ông ở...</td>\n",
              "      <td>Một nam giới ở Hòa Bình đã phải nhập viện điều...</td>\n",
              "      <td>0</td>\n",
              "    </tr>\n",
              "  </tbody>\n",
              "</table>\n",
              "<p>1000 rows × 7 columns</p>\n",
              "</div>"
            ],
            "text/plain": [
              "     Unnamed: 0  ... label\n",
              "0             0  ...     1\n",
              "1             1  ...     1\n",
              "2             2  ...     1\n",
              "3             3  ...     0\n",
              "4             4  ...     1\n",
              "..          ...  ...   ...\n",
              "995         997  ...     1\n",
              "996         998  ...     1\n",
              "997         999  ...     1\n",
              "998        1000  ...     0\n",
              "999        1001  ...     0\n",
              "\n",
              "[1000 rows x 7 columns]"
            ]
          },
          "metadata": {},
          "execution_count": 25
        }
      ]
    },
    {
      "cell_type": "code",
      "metadata": {
        "colab": {
          "base_uri": "https://localhost:8080/"
        },
        "id": "aGxVQoN8phKK",
        "outputId": "e522124d-b725-4585-f23b-7c91cd94d0e4"
      },
      "source": [
        " data_valid.label"
      ],
      "id": "aGxVQoN8phKK",
      "execution_count": null,
      "outputs": [
        {
          "output_type": "execute_result",
          "data": {
            "text/plain": [
              "891       agree\n",
              "192       agree\n",
              "957    disagree\n",
              "988     neutral\n",
              "7         agree\n",
              "         ...   \n",
              "254       agree\n",
              "538     neutral\n",
              "886       agree\n",
              "274       agree\n",
              "822    disagree\n",
              "Name: label, Length: 334, dtype: object"
            ]
          },
          "metadata": {},
          "execution_count": 19
        }
      ]
    },
    {
      "cell_type": "code",
      "metadata": {
        "colab": {
          "base_uri": "https://localhost:8080/"
        },
        "id": "zq13qkWDAHfH",
        "outputId": "c3035649-9e35-47b6-a243-1562f472da5c"
      },
      "source": [
        "model.evaluate(danhgia_input, test.label, verbose=1)\n"
      ],
      "id": "zq13qkWDAHfH",
      "execution_count": null,
      "outputs": [
        {
          "name": "stdout",
          "output_type": "stream",
          "text": [
            "29/29 [==============================] - 22s 390ms/step - loss: 2.4789 - accuracy: 0.0978\n"
          ]
        },
        {
          "data": {
            "text/plain": [
              "[2.478933572769165, 0.09777777642011642]"
            ]
          },
          "execution_count": 32,
          "metadata": {},
          "output_type": "execute_result"
        }
      ]
    },
    {
      "cell_type": "code",
      "metadata": {
        "colab": {
          "base_uri": "https://localhost:8080/"
        },
        "id": "SoOtZ_9FHWyk",
        "outputId": "ab188ea1-144a-4de2-f1c3-a5c5bf1fbd64"
      },
      "source": [
        "y[1]"
      ],
      "id": "SoOtZ_9FHWyk",
      "execution_count": null,
      "outputs": [
        {
          "data": {
            "text/plain": [
              "array([0.01550913, 0.97897995, 0.00551097], dtype=float32)"
            ]
          },
          "execution_count": 53,
          "metadata": {},
          "output_type": "execute_result"
        }
      ]
    },
    {
      "cell_type": "code",
      "metadata": {
        "colab": {
          "base_uri": "https://localhost:8080/"
        },
        "id": "9Bf4_uEUEhWN",
        "outputId": "3cd907fb-f65a-42a1-83f5-6b4068fcd009"
      },
      "source": [
        "np.argmax(y[1])"
      ],
      "id": "9Bf4_uEUEhWN",
      "execution_count": null,
      "outputs": [
        {
          "data": {
            "text/plain": [
              "1"
            ]
          },
          "execution_count": 52,
          "metadata": {},
          "output_type": "execute_result"
        }
      ]
    },
    {
      "cell_type": "code",
      "metadata": {
        "colab": {
          "base_uri": "https://localhost:8080/",
          "height": 1000
        },
        "id": "oMwMfAYzEkLw",
        "outputId": "2f5a6e0a-db57-445e-a6f9-a6411a846cb3"
      },
      "source": [
        "test"
      ],
      "id": "oMwMfAYzEkLw",
      "execution_count": null,
      "outputs": [
        {
          "data": {
            "text/html": [
              "<div>\n",
              "<style scoped>\n",
              "    .dataframe tbody tr th:only-of-type {\n",
              "        vertical-align: middle;\n",
              "    }\n",
              "\n",
              "    .dataframe tbody tr th {\n",
              "        vertical-align: top;\n",
              "    }\n",
              "\n",
              "    .dataframe thead th {\n",
              "        text-align: right;\n",
              "    }\n",
              "</style>\n",
              "<table border=\"1\" class=\"dataframe\">\n",
              "  <thead>\n",
              "    <tr style=\"text-align: right;\">\n",
              "      <th></th>\n",
              "      <th>Unnamed: 0</th>\n",
              "      <th>Unnamed: 0.1</th>\n",
              "      <th>Unnamed: 0.1.1</th>\n",
              "      <th>Unnamed: 0.1.1.1</th>\n",
              "      <th>id</th>\n",
              "      <th>lang_1</th>\n",
              "      <th>lang_2</th>\n",
              "      <th>sentence_1</th>\n",
              "      <th>sentence_2</th>\n",
              "      <th>label</th>\n",
              "      <th>s1_en</th>\n",
              "      <th>s2_en</th>\n",
              "    </tr>\n",
              "  </thead>\n",
              "  <tbody>\n",
              "    <tr>\n",
              "      <th>0</th>\n",
              "      <td>0</td>\n",
              "      <td>0</td>\n",
              "      <td>0</td>\n",
              "      <td>0</td>\n",
              "      <td>train_0</td>\n",
              "      <td>en</td>\n",
              "      <td>vi</td>\n",
              "      <td>Some Maine congressional leaders are pushing t...</td>\n",
              "      <td>Một số lãnh đạo quốc hội Maine đang tiến hành ...</td>\n",
              "      <td>1</td>\n",
              "      <td>Some Maine congressional leaders are pushing t...</td>\n",
              "      <td>Some leaders of Maine Parliament are conductin...</td>\n",
              "    </tr>\n",
              "    <tr>\n",
              "      <th>1</th>\n",
              "      <td>1</td>\n",
              "      <td>1</td>\n",
              "      <td>1</td>\n",
              "      <td>1</td>\n",
              "      <td>train_1</td>\n",
              "      <td>vi</td>\n",
              "      <td>vi</td>\n",
              "      <td>Tờ báo Dispatch đã bày tỏ sự ủng hộ mạnh mẽ đố...</td>\n",
              "      <td>Thống đốc thứ 70 của bang Ohio - Mike DeWine l...</td>\n",
              "      <td>1</td>\n",
              "      <td>The Dispatch newspaper expressed its strong su...</td>\n",
              "      <td>Ohio's 70th governor - Mike Dewine is a talent...</td>\n",
              "    </tr>\n",
              "    <tr>\n",
              "      <th>2</th>\n",
              "      <td>2</td>\n",
              "      <td>2</td>\n",
              "      <td>2</td>\n",
              "      <td>2</td>\n",
              "      <td>train_2</td>\n",
              "      <td>en</td>\n",
              "      <td>vi</td>\n",
              "      <td>Dr. Roberto Colon, the associate chief medical...</td>\n",
              "      <td>Sau khi ghi nhận ca tử vong do virus corona đầ...</td>\n",
              "      <td>1</td>\n",
              "      <td>Dr. Roberto Colon, the associate chief medical...</td>\n",
              "      <td>After recording the first Corona virus in the ...</td>\n",
              "    </tr>\n",
              "    <tr>\n",
              "      <th>3</th>\n",
              "      <td>3</td>\n",
              "      <td>3</td>\n",
              "      <td>3</td>\n",
              "      <td>3</td>\n",
              "      <td>train_3</td>\n",
              "      <td>en</td>\n",
              "      <td>vi</td>\n",
              "      <td>Austin Regional Clinic is looking for 250 volu...</td>\n",
              "      <td>Các cuộc thử nghiệm vắc-xin ngừa virus corona ...</td>\n",
              "      <td>0</td>\n",
              "      <td>Austin Regional Clinic is looking for 250 volu...</td>\n",
              "      <td>Pfizer Inc's new Corona virus vaccine tests on...</td>\n",
              "    </tr>\n",
              "    <tr>\n",
              "      <th>4</th>\n",
              "      <td>4</td>\n",
              "      <td>4</td>\n",
              "      <td>4</td>\n",
              "      <td>4</td>\n",
              "      <td>train_4</td>\n",
              "      <td>vi</td>\n",
              "      <td>vi</td>\n",
              "      <td>Khi số ca nhiễm virus corona mới tăng trên khắ...</td>\n",
              "      <td>Indiana hiện đang rất nỗ lực để chiến đấu với ...</td>\n",
              "      <td>1</td>\n",
              "      <td>When the number of Corona virus infections inc...</td>\n",
              "      <td>Indiana is currently working hard to fight Cov...</td>\n",
              "    </tr>\n",
              "    <tr>\n",
              "      <th>...</th>\n",
              "      <td>...</td>\n",
              "      <td>...</td>\n",
              "      <td>...</td>\n",
              "      <td>...</td>\n",
              "      <td>...</td>\n",
              "      <td>...</td>\n",
              "      <td>...</td>\n",
              "      <td>...</td>\n",
              "      <td>...</td>\n",
              "      <td>...</td>\n",
              "      <td>...</td>\n",
              "      <td>...</td>\n",
              "    </tr>\n",
              "    <tr>\n",
              "      <th>895</th>\n",
              "      <td>895</td>\n",
              "      <td>895</td>\n",
              "      <td>932</td>\n",
              "      <td>932</td>\n",
              "      <td>train_932</td>\n",
              "      <td>en</td>\n",
              "      <td>vi</td>\n",
              "      <td>Ebonie Guyton, a public health practitioner in...</td>\n",
              "      <td>Một bác sĩ y tế ở Detroit, Ebonie Guyton, đã n...</td>\n",
              "      <td>2</td>\n",
              "      <td>Ebonie Guyton, a public health practitioner in...</td>\n",
              "      <td>A medical doctor in Detroit, Ebonie Guyton, sa...</td>\n",
              "    </tr>\n",
              "    <tr>\n",
              "      <th>896</th>\n",
              "      <td>896</td>\n",
              "      <td>896</td>\n",
              "      <td>934</td>\n",
              "      <td>934</td>\n",
              "      <td>train_934</td>\n",
              "      <td>vi</td>\n",
              "      <td>vi</td>\n",
              "      <td>Các nhà nghiên cứu tại Đại học Toronto cảnh bá...</td>\n",
              "      <td>Đồ nướng, bánh kẹo hoặc các loại thức ăn tẩm c...</td>\n",
              "      <td>2</td>\n",
              "      <td>Researchers at the University of Toronto warne...</td>\n",
              "      <td>Barbecue, confectionery or other cannabis impr...</td>\n",
              "    </tr>\n",
              "    <tr>\n",
              "      <th>897</th>\n",
              "      <td>897</td>\n",
              "      <td>897</td>\n",
              "      <td>943</td>\n",
              "      <td>943</td>\n",
              "      <td>train_943</td>\n",
              "      <td>en</td>\n",
              "      <td>vi</td>\n",
              "      <td>The South Dakota Department of Health reported...</td>\n",
              "      <td>Sở Y tế Nam Dakota không ghi nhận ca nhiễm COV...</td>\n",
              "      <td>2</td>\n",
              "      <td>The South Dakota Department of Health reported...</td>\n",
              "      <td>South Dakota Department of Health does not rec...</td>\n",
              "    </tr>\n",
              "    <tr>\n",
              "      <th>898</th>\n",
              "      <td>898</td>\n",
              "      <td>898</td>\n",
              "      <td>944</td>\n",
              "      <td>944</td>\n",
              "      <td>train_944</td>\n",
              "      <td>en</td>\n",
              "      <td>vi</td>\n",
              "      <td>During Tuesday night’s presidential debate, Pr...</td>\n",
              "      <td>Tổng thống Trump không quan tâm tới các vấn đề...</td>\n",
              "      <td>2</td>\n",
              "      <td>During Tuesday night’s presidential debate, Pr...</td>\n",
              "      <td>Trump President did not care about the issues ...</td>\n",
              "    </tr>\n",
              "    <tr>\n",
              "      <th>899</th>\n",
              "      <td>899</td>\n",
              "      <td>899</td>\n",
              "      <td>946</td>\n",
              "      <td>946</td>\n",
              "      <td>train_946</td>\n",
              "      <td>en</td>\n",
              "      <td>vi</td>\n",
              "      <td>As national numbers of new coronavirus cases b...</td>\n",
              "      <td>Số ca nhiễm Covid mới tiếp tục giảm trên toàn ...</td>\n",
              "      <td>2</td>\n",
              "      <td>As national numbers of new coronavirus cases b...</td>\n",
              "      <td>The number of new Covid cases continued to dec...</td>\n",
              "    </tr>\n",
              "  </tbody>\n",
              "</table>\n",
              "<p>900 rows × 12 columns</p>\n",
              "</div>"
            ],
            "text/plain": [
              "     Unnamed: 0  ...                                              s2_en\n",
              "0             0  ...  Some leaders of Maine Parliament are conductin...\n",
              "1             1  ...  Ohio's 70th governor - Mike Dewine is a talent...\n",
              "2             2  ...  After recording the first Corona virus in the ...\n",
              "3             3  ...  Pfizer Inc's new Corona virus vaccine tests on...\n",
              "4             4  ...  Indiana is currently working hard to fight Cov...\n",
              "..          ...  ...                                                ...\n",
              "895         895  ...  A medical doctor in Detroit, Ebonie Guyton, sa...\n",
              "896         896  ...  Barbecue, confectionery or other cannabis impr...\n",
              "897         897  ...  South Dakota Department of Health does not rec...\n",
              "898         898  ...  Trump President did not care about the issues ...\n",
              "899         899  ...  The number of new Covid cases continued to dec...\n",
              "\n",
              "[900 rows x 12 columns]"
            ]
          },
          "execution_count": 50,
          "metadata": {},
          "output_type": "execute_result"
        }
      ]
    },
    {
      "cell_type": "code",
      "metadata": {
        "colab": {
          "base_uri": "https://localhost:8080/"
        },
        "id": "9j0JrYBbB75P",
        "outputId": "f2ef1e77-c728-472b-d26a-4ca9735217fd"
      },
      "source": [
        "!ls {checkpoint_dir}"
      ],
      "id": "9j0JrYBbB75P",
      "execution_count": null,
      "outputs": [
        {
          "name": "stdout",
          "output_type": "stream",
          "text": [
            "checkpoint\t\t\t     flod4-0002.ckpt.index\n",
            "flod0-0001.ckpt.data-00000-of-00001  flod4-0003.ckpt.data-00000-of-00001\n",
            "flod0-0001.ckpt.index\t\t     flod4-0003.ckpt.index\n",
            "flod0-0002.ckpt.data-00000-of-00001  flod5-0001.ckpt.data-00000-of-00001\n",
            "flod0-0002.ckpt.index\t\t     flod5-0001.ckpt.index\n",
            "flod0-0003.ckpt.data-00000-of-00001  flod5-0002.ckpt.data-00000-of-00001\n",
            "flod0-0003.ckpt.index\t\t     flod5-0002.ckpt.index\n",
            "flod0-0004.ckpt.data-00000-of-00001  flod5-0003.ckpt.data-00000-of-00001\n",
            "flod0-0004.ckpt.index\t\t     flod5-0003.ckpt.index\n",
            "flod0-0005.ckpt.data-00000-of-00001  flod6-0001.ckpt.data-00000-of-00001\n",
            "flod0-0005.ckpt.index\t\t     flod6-0001.ckpt.index\n",
            "flod1-0001.ckpt.data-00000-of-00001  flod6-0002.ckpt.data-00000-of-00001\n",
            "flod1-0001.ckpt.index\t\t     flod6-0002.ckpt.index\n",
            "flod1-0002.ckpt.data-00000-of-00001  flod6-0003.ckpt.data-00000-of-00001\n",
            "flod1-0002.ckpt.index\t\t     flod6-0003.ckpt.index\n",
            "flod1-0003.ckpt.data-00000-of-00001  flod7-0001.ckpt.data-00000-of-00001\n",
            "flod1-0003.ckpt.index\t\t     flod7-0001.ckpt.index\n",
            "flod1-0004.ckpt.data-00000-of-00001  flod7-0002.ckpt.data-00000-of-00001\n",
            "flod1-0004.ckpt.index\t\t     flod7-0002.ckpt.index\n",
            "flod2-0001.ckpt.data-00000-of-00001  flod7-0003.ckpt.data-00000-of-00001\n",
            "flod2-0001.ckpt.index\t\t     flod7-0003.ckpt.index\n",
            "flod2-0002.ckpt.data-00000-of-00001  flod8-0001.ckpt.data-00000-of-00001\n",
            "flod2-0002.ckpt.index\t\t     flod8-0001.ckpt.index\n",
            "flod2-0003.ckpt.data-00000-of-00001  flod8-0002.ckpt.data-00000-of-00001\n",
            "flod2-0003.ckpt.index\t\t     flod8-0002.ckpt.index\n",
            "flod3-0001.ckpt.data-00000-of-00001  flod8-0003.ckpt.data-00000-of-00001\n",
            "flod3-0001.ckpt.index\t\t     flod8-0003.ckpt.index\n",
            "flod3-0002.ckpt.data-00000-of-00001  flod9-0001.ckpt.data-00000-of-00001\n",
            "flod3-0002.ckpt.index\t\t     flod9-0001.ckpt.index\n",
            "flod3-0003.ckpt.data-00000-of-00001  flod9-0002.ckpt.data-00000-of-00001\n",
            "flod3-0003.ckpt.index\t\t     flod9-0002.ckpt.index\n",
            "flod3-0004.ckpt.data-00000-of-00001  flod9-0003.ckpt.data-00000-of-00001\n",
            "flod3-0004.ckpt.index\t\t     flod9-0003.ckpt.index\n",
            "flod4-0001.ckpt.data-00000-of-00001  flod9-0004.ckpt.data-00000-of-00001\n",
            "flod4-0001.ckpt.index\t\t     flod9-0004.ckpt.index\n",
            "flod4-0002.ckpt.data-00000-of-00001\n"
          ]
        }
      ]
    },
    {
      "cell_type": "code",
      "metadata": {
        "id": "0jx0WWSECdM2"
      },
      "source": [
        "checkpoint_path =\"flod\"+str(1)+\"-{epoch:04d}.ckpt\"\n",
        "checkpoint_dir = os.path.dirname(\"/content/drive/MyDrive/VLSP/save/weight_en/checkpoint\")"
      ],
      "id": "0jx0WWSECdM2",
      "execution_count": null,
      "outputs": []
    },
    {
      "cell_type": "code",
      "metadata": {
        "colab": {
          "base_uri": "https://localhost:8080/",
          "height": 35
        },
        "id": "uOVqqPdtt9ko",
        "outputId": "fbb860fd-f18b-41db-9fa6-69d83be6e081"
      },
      "source": [
        "latest = tf.train.latest_checkpoint(checkpoint_dir)\n",
        "latest"
      ],
      "id": "uOVqqPdtt9ko",
      "execution_count": null,
      "outputs": [
        {
          "data": {
            "application/vnd.google.colaboratory.intrinsic+json": {
              "type": "string"
            },
            "text/plain": [
              "'/content/drive/MyDrive/VLSP/save/weight_en/flod9-0003.ckpt'"
            ]
          },
          "execution_count": 16,
          "metadata": {},
          "output_type": "execute_result"
        }
      ]
    },
    {
      "cell_type": "code",
      "metadata": {
        "colab": {
          "base_uri": "https://localhost:8080/",
          "height": 35
        },
        "id": "jq0KsL5MDr_Q",
        "outputId": "eb9c95e5-a370-4e69-b83f-bbacd02b5042"
      },
      "source": [
        "checkpoint_path.format(epoch=00000)"
      ],
      "id": "jq0KsL5MDr_Q",
      "execution_count": null,
      "outputs": [
        {
          "data": {
            "application/vnd.google.colaboratory.intrinsic+json": {
              "type": "string"
            },
            "text/plain": [
              "'flod1-0000.ckpt'"
            ]
          },
          "execution_count": 40,
          "metadata": {},
          "output_type": "execute_result"
        }
      ]
    },
    {
      "cell_type": "code",
      "metadata": {
        "colab": {
          "base_uri": "https://localhost:8080/"
        },
        "id": "QJuN9gUjEDV4",
        "outputId": "e2679632-e2e6-4960-de69-7c97454802b2"
      },
      "source": [
        "model.load_weights(latest)"
      ],
      "id": "QJuN9gUjEDV4",
      "execution_count": null,
      "outputs": [
        {
          "data": {
            "text/plain": [
              "<tensorflow.python.training.tracking.util.CheckpointLoadStatus at 0x7f881c128810>"
            ]
          },
          "execution_count": 17,
          "metadata": {},
          "output_type": "execute_result"
        }
      ]
    },
    {
      "cell_type": "code",
      "metadata": {
        "colab": {
          "base_uri": "https://localhost:8080/"
        },
        "id": "velvet-damages",
        "outputId": "5ec54d4b-8434-4c76-b749-7c2fb5ed400b"
      },
      "source": [
        "pred=[np.argmax(i) for i in model.predict(danhgia_input)]\n",
        "pd.DataFrame(pred).value_counts()"
      ],
      "id": "velvet-damages",
      "execution_count": null,
      "outputs": [
        {
          "data": {
            "text/plain": [
              "2    304\n",
              "0    304\n",
              "1    292\n",
              "dtype: int64"
            ]
          },
          "execution_count": 18,
          "metadata": {},
          "output_type": "execute_result"
        }
      ]
    },
    {
      "cell_type": "code",
      "metadata": {
        "colab": {
          "base_uri": "https://localhost:8080/"
        },
        "id": "YBuuk5MmEcrT",
        "outputId": "bf19b64b-09b0-4a68-db5c-7033fd3aaf40"
      },
      "source": [
        "model.evaluate(danhgia_input,test.label,verbose=1)"
      ],
      "id": "YBuuk5MmEcrT",
      "execution_count": null,
      "outputs": [
        {
          "name": "stdout",
          "output_type": "stream",
          "text": [
            "29/29 [==============================] - 22s 392ms/step - loss: 0.1382 - accuracy: 0.9733\n"
          ]
        },
        {
          "data": {
            "text/plain": [
              "[0.13822095096111298, 0.9733333587646484]"
            ]
          },
          "execution_count": 19,
          "metadata": {},
          "output_type": "execute_result"
        }
      ]
    },
    {
      "cell_type": "code",
      "metadata": {
        "id": "NxGq5hslzM0z"
      },
      "source": [
        "y_gold = test['label']\n",
        "y_label = y_gold.tolist()"
      ],
      "id": "NxGq5hslzM0z",
      "execution_count": null,
      "outputs": []
    },
    {
      "cell_type": "code",
      "metadata": {
        "id": "-wwCzo1Ize-o"
      },
      "source": [
        "y_label"
      ],
      "id": "-wwCzo1Ize-o",
      "execution_count": null,
      "outputs": []
    },
    {
      "cell_type": "code",
      "metadata": {
        "id": "V9i35UrDzQYw"
      },
      "source": [
        "pred"
      ],
      "id": "V9i35UrDzQYw",
      "execution_count": null,
      "outputs": []
    },
    {
      "cell_type": "markdown",
      "metadata": {
        "id": "EwHexZgRWqxJ"
      },
      "source": [
        "#Load model"
      ],
      "id": "EwHexZgRWqxJ"
    },
    {
      "cell_type": "code",
      "metadata": {
        "id": "fEp-FpSm1bNx"
      },
      "source": [
        "weight09 = \"/content/drive/MyDrive/VLSP/save/weight_vi/flod9-0003.ckpt\"\n",
        "weight08 = \"/content/drive/MyDrive/VLSP/save/weight_vi/flod8-0003.ckpt\"\n",
        "weight07 = \"/content/drive/MyDrive/VLSP/save/weight_vi/flod7-0005.ckpt\"\n",
        "weight06 = \"/content/drive/MyDrive/VLSP/save/weight_vi/flod6-0003.ckpt\"\n",
        "weight05 = \"/content/drive/MyDrive/VLSP/save/weight_vi/flod5-0004.ckpt\"\n",
        "weight04 = \"/content/drive/MyDrive/VLSP/save/weight_vi/flod4-0004.ckpt\"\n",
        "weight03 = \"/content/drive/MyDrive/VLSP/save/weight_vi/flod3-0003.ckpt\"\n",
        "weight02 = \"/content/drive/MyDrive/VLSP/save/weight_vi/flod2-0003.ckpt\"\n",
        "weight01 = \"/content/drive/MyDrive/VLSP/save/weight_vi/flod1-0004.ckpt\"\n",
        "weight00 = \"/content/drive/MyDrive/VLSP/save/weight_vi/flod0-0004.ckpt\""
      ],
      "id": "fEp-FpSm1bNx",
      "execution_count": null,
      "outputs": []
    },
    {
      "cell_type": "code",
      "metadata": {
        "colab": {
          "base_uri": "https://localhost:8080/"
        },
        "id": "CNFV96oVGS1g",
        "outputId": "c890d07b-d436-4a4b-f8b6-f7d8724b95d6"
      },
      "source": [
        "cd  /content/drive/MyDrive/VLSP/save/weight_en"
      ],
      "id": "CNFV96oVGS1g",
      "execution_count": null,
      "outputs": [
        {
          "name": "stdout",
          "output_type": "stream",
          "text": [
            "/content/drive/MyDrive/VLSP/save/weight_en\n"
          ]
        }
      ]
    },
    {
      "cell_type": "code",
      "metadata": {
        "colab": {
          "base_uri": "https://localhost:8080/"
        },
        "id": "DANJaxGmFKYo",
        "outputId": "e705a7fb-ceae-4451-93b1-3b55c7b3d413"
      },
      "source": [
        "for i in range(10):\n",
        "  print(i)\n",
        "  # w = 'weight0'+str(i)\n",
        "  model.load_weights(\"/content/drive/MyDrive/VLSP/save/weight_en/flod\"+str(i)+\"-0003.ckpt\")\n",
        "  model.evaluate(danhgia_input,test.label,verbose=2)"
      ],
      "id": "DANJaxGmFKYo",
      "execution_count": null,
      "outputs": [
        {
          "name": "stdout",
          "output_type": "stream",
          "text": [
            "0\n",
            "29/29 - 11s - loss: 0.1042 - accuracy: 0.9689\n",
            "1\n",
            "29/29 - 11s - loss: 0.1182 - accuracy: 0.9722\n",
            "2\n",
            "29/29 - 11s - loss: 0.1224 - accuracy: 0.9689\n",
            "3\n",
            "29/29 - 11s - loss: 0.1082 - accuracy: 0.9678\n",
            "4\n",
            "29/29 - 11s - loss: 0.1215 - accuracy: 0.9733\n",
            "5\n",
            "29/29 - 11s - loss: 0.1429 - accuracy: 0.9689\n",
            "6\n",
            "29/29 - 11s - loss: 0.1228 - accuracy: 0.9767\n",
            "7\n",
            "29/29 - 11s - loss: 0.1912 - accuracy: 0.9600\n",
            "8\n",
            "29/29 - 11s - loss: 0.1633 - accuracy: 0.9711\n",
            "9\n",
            "29/29 - 11s - loss: 0.1382 - accuracy: 0.9733\n"
          ]
        }
      ]
    },
    {
      "cell_type": "code",
      "metadata": {
        "colab": {
          "base_uri": "https://localhost:8080/"
        },
        "id": "6CVc_2xc1uUW",
        "outputId": "9f02676a-0884-4a44-e770-48cc3f607a0e"
      },
      "source": [
        "model.load_weights(weight01)"
      ],
      "id": "6CVc_2xc1uUW",
      "execution_count": null,
      "outputs": [
        {
          "data": {
            "text/plain": [
              "<tensorflow.python.training.tracking.util.CheckpointLoadStatus at 0x7f845cd875d0>"
            ]
          },
          "execution_count": 113,
          "metadata": {},
          "output_type": "execute_result"
        }
      ]
    },
    {
      "cell_type": "code",
      "metadata": {
        "colab": {
          "base_uri": "https://localhost:8080/"
        },
        "id": "4411Homm1zmi",
        "outputId": "5872306f-b5b3-4c93-a0b9-671defc03679"
      },
      "source": [
        "pred=[np.argmax(i) for i in model.predict(danhgia_input)]\n",
        "x = pd.DataFrame(pred).value_counts()"
      ],
      "id": "4411Homm1zmi",
      "execution_count": null,
      "outputs": [
        {
          "data": {
            "text/plain": [
              "1    308\n",
              "2    296\n",
              "0    296\n",
              "dtype: int64"
            ]
          },
          "execution_count": 114,
          "metadata": {},
          "output_type": "execute_result"
        }
      ]
    },
    {
      "cell_type": "code",
      "metadata": {
        "id": "Q5NCtHzNlVVs"
      },
      "source": [
        "# y_pred = MODEL.predict(x_test_seq)\n",
        "from sklearn.metrics import classification_report\n",
        "from sklearn.metrics import confusion_matrix\n",
        "import seaborn as sns\n",
        "import matplotlib.pyplot as plt\n",
        "from sklearn.metrics import confusion_matrix\n",
        "import sklearn.metrics as metrics\n",
        "import seaborn as sns\n",
        "# import metrics\n",
        "def plot_confusion_matrix(matrix, num_classes):\n",
        "  df_cm = pd.DataFrame(matrix, index = [i for i in range(num_classes)],\n",
        "                    columns = [i for i in range(num_classes)])\n",
        "  plt.figure(figsize = (10,7))\n",
        "  sns.heatmap(df_cm, annot=True, fmt='g')\n",
        "\n",
        "def inference(MODEL, x_test_seq, labels_test):\n",
        "  y_pred = MODEL.predict(x_test_seq)\n",
        "\n",
        "  y_pred = y\n",
        "  y_true = y_\n",
        "\n",
        "  return y_true, y_pred"
      ],
      "id": "Q5NCtHzNlVVs",
      "execution_count": null,
      "outputs": []
    },
    {
      "cell_type": "code",
      "metadata": {
        "colab": {
          "base_uri": "https://localhost:8080/",
          "height": 566
        },
        "id": "AkcUp2zbslpj",
        "outputId": "c414efdf-e134-44b3-906e-21c4a38a0ba1"
      },
      "source": [
        "from sklearn.metrics import confusion_matrix\n",
        "import seaborn as sns\n",
        "import matplotlib.pyplot as plt\n",
        "from sklearn.metrics import confusion_matrix\n",
        "\n",
        "cm_cst_nb = confusion_matrix(y_label, pred)\n",
        "# cm_txc_nb\n",
        "\n",
        "plt.figure(figsize=(17,12))\n",
        "# plt.suptitle('Confusion Matrix: XLM-R ', fontsize=20)\n",
        "\n",
        "plt.subplot(2,2,1)\n",
        "plt.title('Fold-2', fontsize=16)\n",
        "df_cm_cst_nb = pd.DataFrame(cm_cst_nb)#, index=np.unique(cst_train), columns=np.unique(cst_test))\n",
        "sns.heatmap(df_cm_cst_nb, annot=True, square=True, annot_kws={\"size\": 25}, fmt='2g', cmap='Blues')\n",
        "print(classification_report(y_label, pred, digits = 4))\n",
        "model.evaluate(danhgia_input,test.label,verbose=2)"
      ],
      "id": "AkcUp2zbslpj",
      "execution_count": null,
      "outputs": [
        {
          "name": "stdout",
          "output_type": "stream",
          "text": [
            "              precision    recall  f1-score   support\n",
            "\n",
            "           0     0.9662    0.9533    0.9597       300\n",
            "           1     0.9545    0.9800    0.9671       300\n",
            "           2     0.9662    0.9533    0.9597       300\n",
            "\n",
            "    accuracy                         0.9622       900\n",
            "   macro avg     0.9623    0.9622    0.9622       900\n",
            "weighted avg     0.9623    0.9622    0.9622       900\n",
            "\n",
            "29/29 - 11s - loss: 0.1405 - accuracy: 0.9622\n"
          ]
        },
        {
          "data": {
            "text/plain": [
              "[0.14053381979465485, 0.9622222185134888]"
            ]
          },
          "execution_count": 115,
          "metadata": {},
          "output_type": "execute_result"
        },
        {
          "data": {
            "image/png": "[encoded data removed]",
            "text/plain": [
              "<Figure size 1224x864 with 2 Axes>"
            ]
          },
          "metadata": {},
          "output_type": "display_data"
        }
      ]
    },
    {
      "cell_type": "code",
      "metadata": {
        "id": "A9HW5Zu-CsOs"
      },
      "source": [
        "gold_label = pd.read_json(\"/content/drive/MyDrive/tinyeudau/gold_lbale_kflod8.json\")\n",
        "pre_label = pd.read_json(\"/content/drive/MyDrive/tinyeudau/pedict_lbale_kflod8.json\")"
      ],
      "id": "A9HW5Zu-CsOs",
      "execution_count": null,
      "outputs": []
    },
    {
      "cell_type": "code",
      "metadata": {
        "colab": {
          "base_uri": "https://localhost:8080/"
        },
        "id": "QST8OlYRC8SO",
        "outputId": "890c91ae-767f-429f-b593-e038e78e241b"
      },
      "source": [
        "gold_label['gold_label'].map({'agree': 0, 'neutral': 1, 'disagree': 2})\n",
        "pre_label['label'].map({'agree': 0, 'neutral': 1, 'disagree': 2})"
      ],
      "id": "QST8OlYRC8SO",
      "execution_count": null,
      "outputs": [
        {
          "output_type": "execute_result",
          "data": {
            "text/plain": [
              "0       1\n",
              "1       2\n",
              "2       2\n",
              "3       2\n",
              "4       0\n",
              "       ..\n",
              "1612    0\n",
              "1613    1\n",
              "1614    0\n",
              "1615    2\n",
              "1616    2\n",
              "Name: label, Length: 1617, dtype: int64"
            ]
          },
          "metadata": {},
          "execution_count": 62
        }
      ]
    },
    {
      "cell_type": "code",
      "metadata": {
        "id": "3DEjYJB0D3E-"
      },
      "source": [
        "y_label = gold_label[\"gold_label\"].to_list()\n",
        "y_red = pre_label[\"label\"].to_list()"
      ],
      "id": "3DEjYJB0D3E-",
      "execution_count": null,
      "outputs": []
    },
    {
      "cell_type": "code",
      "metadata": {
        "colab": {
          "base_uri": "https://localhost:8080/",
          "height": 374
        },
        "id": "3dzUGvmUEVwy",
        "outputId": "ff5d9521-a812-4c33-caba-095c7ca2466a"
      },
      "source": [
        "from sklearn.metrics import classification_report\n",
        "from sklearn.metrics import confusion_matrix\n",
        "import seaborn as sns\n",
        "import matplotlib.pyplot as plt\n",
        "from sklearn.metrics import confusion_matrix\n",
        "import sklearn.metrics as metrics\n",
        "import seaborn as sns\n",
        "# import metrics\n",
        "# pred=[np.argmax(i) for i in model.predict(danhgia_input)]\n",
        "cm_cst_nb = confusion_matrix(y_label, y_pred)\n",
        "# cm_txc_nb\n",
        "\n",
        "plt.figure(figsize=(17,12))\n",
        "# plt.suptitle('Confusion Matrix: XLM-R ', fontsize=20)\n",
        "\n",
        "plt.subplot(2,2,1)\n",
        "plt.title('Fold-'+str(i+1), fontsize=16)\n",
        "df_cm_cst_nb = pd.DataFrame(cm_cst_nb)#, index=np.unique(cst_train), columns=np.unique(cst_test))\n",
        "print(sns.heatmap(df_cm_cst_nb, annot=True, square=True, annot_kws={\"size\": 25}, fmt='2g', cmap='Blues'))\n",
        "print(classification_report(y_label, y_pred, digits = 4))\n",
        "# model.evaluate(danhgia_input,test.label,verbose=2)"
      ],
      "id": "3dzUGvmUEVwy",
      "execution_count": null,
      "outputs": [
        {
          "output_type": "error",
          "ename": "ValueError",
          "evalue": "ignored",
          "traceback": [
            "\u001b[0;31m---------------------------------------------------------------------------\u001b[0m",
            "\u001b[0;31mValueError\u001b[0m                                Traceback (most recent call last)",
            "\u001b[0;32m<ipython-input-67-49a390c6c076>\u001b[0m in \u001b[0;36m<module>\u001b[0;34m()\u001b[0m\n\u001b[1;32m      8\u001b[0m \u001b[0;31m# import metrics\u001b[0m\u001b[0;34m\u001b[0m\u001b[0;34m\u001b[0m\u001b[0;34m\u001b[0m\u001b[0m\n\u001b[1;32m      9\u001b[0m \u001b[0;31m# pred=[np.argmax(i) for i in model.predict(danhgia_input)]\u001b[0m\u001b[0;34m\u001b[0m\u001b[0;34m\u001b[0m\u001b[0;34m\u001b[0m\u001b[0m\n\u001b[0;32m---> 10\u001b[0;31m \u001b[0mcm_cst_nb\u001b[0m \u001b[0;34m=\u001b[0m \u001b[0mconfusion_matrix\u001b[0m\u001b[0;34m(\u001b[0m\u001b[0my_label\u001b[0m\u001b[0;34m,\u001b[0m \u001b[0my_pred\u001b[0m\u001b[0;34m)\u001b[0m\u001b[0;34m\u001b[0m\u001b[0;34m\u001b[0m\u001b[0m\n\u001b[0m\u001b[1;32m     11\u001b[0m \u001b[0;31m# cm_txc_nb\u001b[0m\u001b[0;34m\u001b[0m\u001b[0;34m\u001b[0m\u001b[0;34m\u001b[0m\u001b[0m\n\u001b[1;32m     12\u001b[0m \u001b[0;34m\u001b[0m\u001b[0m\n",
            "\u001b[0;32m/usr/local/lib/python3.7/dist-packages/sklearn/metrics/_classification.py\u001b[0m in \u001b[0;36mconfusion_matrix\u001b[0;34m(y_true, y_pred, labels, sample_weight, normalize)\u001b[0m\n\u001b[1;32m    266\u001b[0m \u001b[0;34m\u001b[0m\u001b[0m\n\u001b[1;32m    267\u001b[0m     \"\"\"\n\u001b[0;32m--> 268\u001b[0;31m     \u001b[0my_type\u001b[0m\u001b[0;34m,\u001b[0m \u001b[0my_true\u001b[0m\u001b[0;34m,\u001b[0m \u001b[0my_pred\u001b[0m \u001b[0;34m=\u001b[0m \u001b[0m_check_targets\u001b[0m\u001b[0;34m(\u001b[0m\u001b[0my_true\u001b[0m\u001b[0;34m,\u001b[0m \u001b[0my_pred\u001b[0m\u001b[0;34m)\u001b[0m\u001b[0;34m\u001b[0m\u001b[0;34m\u001b[0m\u001b[0m\n\u001b[0m\u001b[1;32m    269\u001b[0m     \u001b[0;32mif\u001b[0m \u001b[0my_type\u001b[0m \u001b[0;32mnot\u001b[0m \u001b[0;32min\u001b[0m \u001b[0;34m(\u001b[0m\u001b[0;34m\"binary\"\u001b[0m\u001b[0;34m,\u001b[0m \u001b[0;34m\"multiclass\"\u001b[0m\u001b[0;34m)\u001b[0m\u001b[0;34m:\u001b[0m\u001b[0;34m\u001b[0m\u001b[0;34m\u001b[0m\u001b[0m\n\u001b[1;32m    270\u001b[0m         \u001b[0;32mraise\u001b[0m \u001b[0mValueError\u001b[0m\u001b[0;34m(\u001b[0m\u001b[0;34m\"%s is not supported\"\u001b[0m \u001b[0;34m%\u001b[0m \u001b[0my_type\u001b[0m\u001b[0;34m)\u001b[0m\u001b[0;34m\u001b[0m\u001b[0;34m\u001b[0m\u001b[0m\n",
            "\u001b[0;32m/usr/local/lib/python3.7/dist-packages/sklearn/metrics/_classification.py\u001b[0m in \u001b[0;36m_check_targets\u001b[0;34m(y_true, y_pred)\u001b[0m\n\u001b[1;32m     78\u001b[0m     \u001b[0my_pred\u001b[0m \u001b[0;34m:\u001b[0m \u001b[0marray\u001b[0m \u001b[0;32mor\u001b[0m \u001b[0mindicator\u001b[0m \u001b[0mmatrix\u001b[0m\u001b[0;34m\u001b[0m\u001b[0;34m\u001b[0m\u001b[0m\n\u001b[1;32m     79\u001b[0m     \"\"\"\n\u001b[0;32m---> 80\u001b[0;31m     \u001b[0mcheck_consistent_length\u001b[0m\u001b[0;34m(\u001b[0m\u001b[0my_true\u001b[0m\u001b[0;34m,\u001b[0m \u001b[0my_pred\u001b[0m\u001b[0;34m)\u001b[0m\u001b[0;34m\u001b[0m\u001b[0;34m\u001b[0m\u001b[0m\n\u001b[0m\u001b[1;32m     81\u001b[0m     \u001b[0mtype_true\u001b[0m \u001b[0;34m=\u001b[0m \u001b[0mtype_of_target\u001b[0m\u001b[0;34m(\u001b[0m\u001b[0my_true\u001b[0m\u001b[0;34m)\u001b[0m\u001b[0;34m\u001b[0m\u001b[0;34m\u001b[0m\u001b[0m\n\u001b[1;32m     82\u001b[0m     \u001b[0mtype_pred\u001b[0m \u001b[0;34m=\u001b[0m \u001b[0mtype_of_target\u001b[0m\u001b[0;34m(\u001b[0m\u001b[0my_pred\u001b[0m\u001b[0;34m)\u001b[0m\u001b[0;34m\u001b[0m\u001b[0;34m\u001b[0m\u001b[0m\n",
            "\u001b[0;32m/usr/local/lib/python3.7/dist-packages/sklearn/utils/validation.py\u001b[0m in \u001b[0;36mcheck_consistent_length\u001b[0;34m(*arrays)\u001b[0m\n\u001b[1;32m    210\u001b[0m     \u001b[0;32mif\u001b[0m \u001b[0mlen\u001b[0m\u001b[0;34m(\u001b[0m\u001b[0muniques\u001b[0m\u001b[0;34m)\u001b[0m \u001b[0;34m>\u001b[0m \u001b[0;36m1\u001b[0m\u001b[0;34m:\u001b[0m\u001b[0;34m\u001b[0m\u001b[0;34m\u001b[0m\u001b[0m\n\u001b[1;32m    211\u001b[0m         raise ValueError(\"Found input variables with inconsistent numbers of\"\n\u001b[0;32m--> 212\u001b[0;31m                          \" samples: %r\" % [int(l) for l in lengths])\n\u001b[0m\u001b[1;32m    213\u001b[0m \u001b[0;34m\u001b[0m\u001b[0m\n\u001b[1;32m    214\u001b[0m \u001b[0;34m\u001b[0m\u001b[0m\n",
            "\u001b[0;31mValueError\u001b[0m: Found input variables with inconsistent numbers of samples: [1617, 1618]"
          ]
        }
      ]
    },
    {
      "cell_type": "code",
      "metadata": {
        "colab": {
          "base_uri": "https://localhost:8080/",
          "height": 1000
        },
        "id": "0O6qNNmT2SoY",
        "outputId": "fea3e982-c959-4646-ddb4-89a7f9e01afe"
      },
      "source": [
        "for i in range(10):\n",
        "  print(i)\n",
        "  model.load_weights(\"/content/drive/MyDrive/VLSP/save/weight_vi/flod\"+str(i)+\"-0003.ckpt\")\n",
        "  pred=[np.argmax(i) for i in model.predict(danhgia_input)]\n",
        "  cm_cst_nb = confusion_matrix(y_label, pred)\n",
        "# cm_txc_nb\n",
        "\n",
        "  plt.figure(figsize=(17,12))\n",
        "# plt.suptitle('Confusion Matrix: XLM-R ', fontsize=20)\n",
        "\n",
        "  plt.subplot(2,2,1)\n",
        "  plt.title('Fold-'+str(i+1), fontsize=16)\n",
        "  df_cm_cst_nb = pd.DataFrame(cm_cst_nb)#, index=np.unique(cst_train), columns=np.unique(cst_test))\n",
        "  print(sns.heatmap(df_cm_cst_nb, annot=True, square=True, annot_kws={\"size\": 25}, fmt='2g', cmap='Blues'))\n",
        "  print(classification_report(y_label, pred, digits = 4))\n",
        "  model.evaluate(danhgia_input,test.label,verbose=2)\n",
        "  \n"
      ],
      "id": "0O6qNNmT2SoY",
      "execution_count": null,
      "outputs": [
        {
          "name": "stdout",
          "output_type": "stream",
          "text": [
            "0\n",
            "AxesSubplot(0.164572,0.536818;0.242246x0.343182)\n",
            "              precision    recall  f1-score   support\n",
            "\n",
            "           0     0.9263    0.9633    0.9444       300\n",
            "           1     0.9728    0.9533    0.9630       300\n",
            "           2     0.9490    0.9300    0.9394       300\n",
            "\n",
            "    accuracy                         0.9489       900\n",
            "   macro avg     0.9494    0.9489    0.9489       900\n",
            "weighted avg     0.9494    0.9489    0.9489       900\n",
            "\n",
            "29/29 - 11s - loss: 0.1862 - accuracy: 0.9489\n",
            "1\n",
            "AxesSubplot(0.164572,0.536818;0.242246x0.343182)\n",
            "              precision    recall  f1-score   support\n",
            "\n",
            "           0     0.9539    0.9667    0.9603       300\n",
            "           1     0.9600    0.9600    0.9600       300\n",
            "           2     0.9595    0.9467    0.9530       300\n",
            "\n",
            "    accuracy                         0.9578       900\n",
            "   macro avg     0.9578    0.9578    0.9578       900\n",
            "weighted avg     0.9578    0.9578    0.9578       900\n",
            "\n",
            "29/29 - 11s - loss: 0.1542 - accuracy: 0.9578\n",
            "2\n",
            "AxesSubplot(0.164572,0.536818;0.242246x0.343182)\n",
            "              precision    recall  f1-score   support\n",
            "\n",
            "           0     0.9533    0.9533    0.9533       300\n",
            "           1     0.9421    0.9767    0.9591       300\n",
            "           2     0.9689    0.9333    0.9508       300\n",
            "\n",
            "    accuracy                         0.9544       900\n",
            "   macro avg     0.9548    0.9544    0.9544       900\n",
            "weighted avg     0.9548    0.9544    0.9544       900\n",
            "\n",
            "29/29 - 11s - loss: 0.1850 - accuracy: 0.9544\n",
            "3\n",
            "AxesSubplot(0.164572,0.536818;0.242246x0.343182)\n",
            "              precision    recall  f1-score   support\n",
            "\n",
            "           0     0.9727    0.9500    0.9612       300\n",
            "           1     0.9698    0.9633    0.9666       300\n",
            "           2     0.9417    0.9700    0.9557       300\n",
            "\n",
            "    accuracy                         0.9611       900\n",
            "   macro avg     0.9614    0.9611    0.9611       900\n",
            "weighted avg     0.9614    0.9611    0.9611       900\n",
            "\n",
            "29/29 - 11s - loss: 0.1437 - accuracy: 0.9611\n",
            "4\n",
            "AxesSubplot(0.164572,0.536818;0.242246x0.343182)\n",
            "              precision    recall  f1-score   support\n",
            "\n",
            "           0     0.9505    0.9600    0.9552       300\n",
            "           1     0.9795    0.9567    0.9680       300\n",
            "           2     0.9474    0.9600    0.9536       300\n",
            "\n",
            "    accuracy                         0.9589       900\n",
            "   macro avg     0.9591    0.9589    0.9589       900\n",
            "weighted avg     0.9591    0.9589    0.9589       900\n",
            "\n",
            "29/29 - 11s - loss: 0.1532 - accuracy: 0.9589\n",
            "5\n",
            "AxesSubplot(0.164572,0.536818;0.242246x0.343182)\n",
            "              precision    recall  f1-score   support\n",
            "\n",
            "           0     0.9730    0.9600    0.9664       300\n",
            "           1     0.9734    0.9767    0.9750       300\n",
            "           2     0.9703    0.9800    0.9751       300\n",
            "\n",
            "    accuracy                         0.9722       900\n",
            "   macro avg     0.9722    0.9722    0.9722       900\n",
            "weighted avg     0.9722    0.9722    0.9722       900\n",
            "\n",
            "29/29 - 11s - loss: 0.0964 - accuracy: 0.9722\n",
            "6\n",
            "AxesSubplot(0.164572,0.536818;0.242246x0.343182)\n",
            "              precision    recall  f1-score   support\n",
            "\n",
            "           0     0.9724    0.9400    0.9559       300\n",
            "           1     0.9511    0.9733    0.9621       300\n",
            "           2     0.9538    0.9633    0.9585       300\n",
            "\n",
            "    accuracy                         0.9589       900\n",
            "   macro avg     0.9591    0.9589    0.9589       900\n",
            "weighted avg     0.9591    0.9589    0.9589       900\n",
            "\n",
            "29/29 - 11s - loss: 0.1307 - accuracy: 0.9589\n",
            "7\n",
            "AxesSubplot(0.164572,0.536818;0.242246x0.343182)\n",
            "              precision    recall  f1-score   support\n",
            "\n",
            "           0     0.9389    0.9733    0.9558       300\n",
            "           1     0.9931    0.9567    0.9745       300\n",
            "           2     0.9633    0.9633    0.9633       300\n",
            "\n",
            "    accuracy                         0.9644       900\n",
            "   macro avg     0.9651    0.9644    0.9646       900\n",
            "weighted avg     0.9651    0.9644    0.9646       900\n",
            "\n",
            "29/29 - 11s - loss: 0.1462 - accuracy: 0.9644\n",
            "8\n",
            "AxesSubplot(0.164572,0.536818;0.242246x0.343182)\n",
            "              precision    recall  f1-score   support\n",
            "\n",
            "           0     0.9597    0.9533    0.9565       300\n",
            "           1     0.9799    0.9733    0.9766       300\n",
            "           2     0.9474    0.9600    0.9536       300\n",
            "\n",
            "    accuracy                         0.9622       900\n",
            "   macro avg     0.9623    0.9622    0.9623       900\n",
            "weighted avg     0.9623    0.9622    0.9623       900\n",
            "\n",
            "29/29 - 11s - loss: 0.1862 - accuracy: 0.9622\n",
            "9\n",
            "AxesSubplot(0.164572,0.536818;0.242246x0.343182)\n",
            "              precision    recall  f1-score   support\n",
            "\n",
            "           0     0.9794    0.9500    0.9645       300\n",
            "           1     0.9635    0.9667    0.9651       300\n",
            "           2     0.9513    0.9767    0.9638       300\n",
            "\n",
            "    accuracy                         0.9644       900\n",
            "   macro avg     0.9647    0.9644    0.9644       900\n",
            "weighted avg     0.9647    0.9644    0.9644       900\n",
            "\n",
            "29/29 - 11s - loss: 0.1570 - accuracy: 0.9644\n"
          ]
        },
        {
          "data": {
            "image/png": "[encoded data removed]",
            "text/plain": [
              "<Figure size 1224x864 with 2 Axes>"
            ]
          },
          "metadata": {},
          "output_type": "display_data"
        },
        {
          "data": {
            "image/png": "[encoded data removed]",
            "text/plain": [
              "<Figure size 1224x864 with 2 Axes>"
            ]
          },
          "metadata": {},
          "output_type": "display_data"
        },
        {
          "data": {
            "image/png": "[encoded data removed]",
            "text/plain": [
              "<Figure size 1224x864 with 2 Axes>"
            ]
          },
          "metadata": {},
          "output_type": "display_data"
        },
        {
          "data": {
            "image/png": "[encoded data removed]",
            "text/plain": [
              "<Figure size 1224x864 with 2 Axes>"
            ]
          },
          "metadata": {},
          "output_type": "display_data"
        },
        {
          "data": {
            "image/png": "[encoded data removed]",
            "text/plain": [
              "<Figure size 1224x864 with 2 Axes>"
            ]
          },
          "metadata": {},
          "output_type": "display_data"
        },
        {
          "data": {
            "image/png": "[encoded data removed]",
            "text/plain": [
              "<Figure size 1224x864 with 2 Axes>"
            ]
          },
          "metadata": {},
          "output_type": "display_data"
        },
        {
          "data": {
            "image/png": "[encoded data removed]",
            "text/plain": [
              "<Figure size 1224x864 with 2 Axes>"
            ]
          },
          "metadata": {},
          "output_type": "display_data"
        },
        {
          "data": {
            "image/png": "[encoded data removed]",
            "text/plain": [
              "<Figure size 1224x864 with 2 Axes>"
            ]
          },
          "metadata": {},
          "output_type": "display_data"
        },
        {
          "data": {
            "image/png": "[encoded data removed]",
            "text/plain": [
              "<Figure size 1224x864 with 2 Axes>"
            ]
          },
          "metadata": {},
          "output_type": "display_data"
        },
        {
          "data": {
            "image/png": "[encoded data removed]",
            "text/plain": [
              "<Figure size 1224x864 with 2 Axes>"
            ]
          },
          "metadata": {},
          "output_type": "display_data"
        }
      ]
    },
    {
      "cell_type": "markdown",
      "metadata": {
        "id": "-BGDJFoqhrSe"
      },
      "source": [
        "#load weight\n",
        "\n"
      ],
      "id": "-BGDJFoqhrSe"
    },
    {
      "cell_type": "code",
      "metadata": {
        "colab": {
          "base_uri": "https://localhost:8080/",
          "height": 180
        },
        "id": "1kXzDSx1z6Dl",
        "outputId": "61460a1e-dbc6-4114-df4a-905e573794c2"
      },
      "source": [
        "checkpoint_path = \"/content/drive/MyDrive/VLSP/save/weight_vi/flod0-0001.ckpt.index\"\n",
        "checkpoint_dir = os.path.dirname(checkpoint_path)"
      ],
      "id": "1kXzDSx1z6Dl",
      "execution_count": null,
      "outputs": [
        {
          "ename": "NameError",
          "evalue": "ignored",
          "output_type": "error",
          "traceback": [
            "\u001b[0;31m---------------------------------------------------------------------------\u001b[0m",
            "\u001b[0;31mNameError\u001b[0m                                 Traceback (most recent call last)",
            "\u001b[0;32m<ipython-input-7-efcde2a6ca45>\u001b[0m in \u001b[0;36m<module>\u001b[0;34m()\u001b[0m\n\u001b[1;32m      1\u001b[0m \u001b[0mcheckpoint_path\u001b[0m \u001b[0;34m=\u001b[0m \u001b[0;34m\"/content/drive/MyDrive/VLSP/save/weight_vi/flod0-0001.ckpt.index\"\u001b[0m\u001b[0;34m\u001b[0m\u001b[0;34m\u001b[0m\u001b[0m\n\u001b[0;32m----> 2\u001b[0;31m \u001b[0mcheckpoint_dir\u001b[0m \u001b[0;34m=\u001b[0m \u001b[0mos\u001b[0m\u001b[0;34m.\u001b[0m\u001b[0mpath\u001b[0m\u001b[0;34m.\u001b[0m\u001b[0mdirname\u001b[0m\u001b[0;34m(\u001b[0m\u001b[0mcheckpoint_path\u001b[0m\u001b[0;34m)\u001b[0m\u001b[0;34m\u001b[0m\u001b[0;34m\u001b[0m\u001b[0m\n\u001b[0m",
            "\u001b[0;31mNameError\u001b[0m: name 'os' is not defined"
          ]
        }
      ]
    },
    {
      "cell_type": "code",
      "metadata": {
        "colab": {
          "base_uri": "https://localhost:8080/"
        },
        "id": "k6QHnTmQz7Pq",
        "outputId": "0eae1a7c-9c11-463a-dea2-e7a1f7ac5d6a"
      },
      "source": [
        "cd /content/drive/MyDrive/VLSP/save/weight_vi"
      ],
      "id": "k6QHnTmQz7Pq",
      "execution_count": null,
      "outputs": [
        {
          "name": "stdout",
          "output_type": "stream",
          "text": [
            "/content/drive/MyDrive/VLSP/save/weight_vi\n"
          ]
        }
      ]
    },
    {
      "cell_type": "code",
      "metadata": {
        "colab": {
          "base_uri": "https://localhost:8080/"
        },
        "id": "bXefQu0_xQYE",
        "outputId": "7a28fd0c-9c27-48b0-a340-bac2daee3d9c"
      },
      "source": [
        "! du -sh /content/drive/MyDrive/"
      ],
      "id": "bXefQu0_xQYE",
      "execution_count": null,
      "outputs": [
        {
          "name": "stdout",
          "output_type": "stream",
          "text": [
            "221G\t/content/drive/MyDrive/VLSP\n"
          ]
        }
      ]
    },
    {
      "cell_type": "code",
      "metadata": {
        "id": "lBUt9aUg8AWk"
      },
      "source": [
        ""
      ],
      "id": "lBUt9aUg8AWk",
      "execution_count": null,
      "outputs": []
    },
    {
      "cell_type": "markdown",
      "metadata": {
        "id": "k_EL-Yx78Afq"
      },
      "source": [
        "# visualize\n"
      ],
      "id": "k_EL-Yx78Afq"
    },
    {
      "cell_type": "code",
      "metadata": {
        "id": "Ugm6Tgji8PY3"
      },
      "source": [
        "import pandas as pd\n",
        "import numpy as np\n",
        "import matplotlib.pyplot as plt\n",
        "import seaborn as sns\n",
        "\n",
        "from nltk.corpus import stopwords\n",
        "from nltk.probability import FreqDist\n",
        "from nltk import ngrams\n",
        "import string,re\n",
        "\n",
        "from sklearn.feature_extraction.text import CountVectorizer, TfidfVectorizer\n",
        "from sklearn.model_selection import train_test_split\n",
        "from sklearn.linear_model import LogisticRegression\n",
        "from sklearn.metrics import accuracy_score\n",
        "\n",
        "import warnings,os"
      ],
      "id": "Ugm6Tgji8PY3",
      "execution_count": null,
      "outputs": []
    },
    {
      "cell_type": "code",
      "metadata": {
        "colab": {
          "base_uri": "https://localhost:8080/",
          "height": 575
        },
        "id": "RYx3je6c8DMA",
        "outputId": "b8657d1d-f9ef-4890-b753-f455581e852e"
      },
      "source": [
        "labels, frequencies = np.unique(train.label.values, return_counts = True)\n",
        "\n",
        "plt.figure(figsize = (10,10))\n",
        "plt.pie(frequencies,labels = labels, autopct = '%1.1f%%')\n",
        "plt.show()"
      ],
      "id": "RYx3je6c8DMA",
      "execution_count": null,
      "outputs": [
        {
          "data": {
            "image/png": "[encoded data removed]",
            "text/plain": [
              "<Figure size 720x720 with 1 Axes>"
            ]
          },
          "metadata": {},
          "output_type": "display_data"
        }
      ]
    },
    {
      "cell_type": "code",
      "metadata": {
        "colab": {
          "base_uri": "https://localhost:8080/",
          "height": 427
        },
        "id": "6E3YkSvp8HEz",
        "outputId": "881020c6-79fa-4954-b5c2-e0218c75b2ce"
      },
      "source": [
        "# train_txt['sentiment_class'] = train_txt['sentiment'].map({0:'negative',1:'positive',-1:'neutral'})\n",
        "# test_txt['sentiment_class'] = test_txt['sentiment'].map({0:'negative',1:'positive',-1:'neutral'})\n",
        "\n",
        "num_label=3\n",
        "trainn_=pd.DataFrame({'count' : train_df_list[1].groupby( [ \"label\"] ).size(),'hue_':['trainn']*num_label}).reset_index()\n",
        "testt_=pd.DataFrame({'count' : val_df_list[1].groupby( [ \"label\"] ).size(),'hue_':['test']*num_label}).reset_index()\n",
        "\n",
        "# Draw a nested barplot by species and sex\n",
        "g = sns.catplot(\n",
        "    data=trainn_.append(testt_), kind=\"bar\",\n",
        "    x=\"label\", y=\"count\", hue=\"hue_\",\n",
        "    ci=\"sd\", palette=\"dark\", alpha=.6, height=6\n",
        ")\n",
        "g.despine(left=True)\n",
        "g.set_axis_labels(\"\", \"Body mass (g)\")\n",
        "g.legend.set_title(\"\")\n"
      ],
      "id": "6E3YkSvp8HEz",
      "execution_count": null,
      "outputs": [
        {
          "data": {
            "image/png": "[encoded data removed]",
            "text/plain": [
              "<Figure size 497.75x432 with 1 Axes>"
            ]
          },
          "metadata": {},
          "output_type": "display_data"
        }
      ]
    }
  ]
}